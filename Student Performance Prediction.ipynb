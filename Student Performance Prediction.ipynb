{
  "nbformat": 4,
  "nbformat_minor": 0,
  "metadata": {
    "colab": {
      "provenance": [],
      "toc_visible": true
    },
    "kernelspec": {
      "name": "python3",
      "display_name": "Python 3"
    },
    "language_info": {
      "name": "python"
    }
  },
  "cells": [
    {
      "cell_type": "markdown",
      "source": [
        "## **PROJECT PRESENTATION LINK :**\n",
        "\n",
        "https://drive.google.com/file/d/13zDguVPNVv4SvSrAgw6K7YmSi3eXWtSv/view?usp=share_link"
      ],
      "metadata": {
        "id": "XtOq_9DCGMCG"
      }
    },
    {
      "cell_type": "markdown",
      "source": [
        "# ***IMPORTING THE LIBRARIES***"
      ],
      "metadata": {
        "id": "mzAdm0aLMJLs"
      }
    },
    {
      "cell_type": "code",
      "execution_count": null,
      "metadata": {
        "id": "7k3-x_Xcmc2W"
      },
      "outputs": [],
      "source": [
        "import numpy as np\n",
        "import pandas as pd\n",
        "import matplotlib.pyplot as plt\n",
        "import seaborn as sns\n",
        "import statsmodels.formula.api as smf\n",
        "sns.set(color_codes=True)\n",
        "from sklearn.linear_model import LinearRegression\n",
        "from sklearn import metrics\n",
        "from sklearn.model_selection import train_test_split\n",
        "from sklearn.metrics import accuracy_score\n",
        "import tensorflow as tf\n",
        "%matplotlib inline"
      ]
    },
    {
      "cell_type": "markdown",
      "source": [
        "# ***LOADING OF DATA***"
      ],
      "metadata": {
        "id": "QZsiNkuECsDz"
      }
    },
    {
      "cell_type": "code",
      "source": [
        "data = pd.read_excel(\"student-mat.xlsx\",header = 0)\n",
        "data"
      ],
      "metadata": {
        "id": "ZJetK2xkm44y",
        "colab": {
          "base_uri": "https://localhost:8080/",
          "height": 487
        },
        "outputId": "97f97169-bb9d-450c-8a2a-b8dad3a55c22"
      },
      "execution_count": null,
      "outputs": [
        {
          "output_type": "execute_result",
          "data": {
            "text/plain": [
              "    school sex  age address famsize Pstatus  Medu  Fedu      Mjob      Fjob  \\\n",
              "0       GP   F   18       U     GT3       A     4     4   at_home   teacher   \n",
              "1       GP   F   17       U     GT3       T     1     1   at_home     other   \n",
              "2       GP   F   15       U     LE3       T     1     1   at_home     other   \n",
              "3       GP   F   15       U     GT3       T     4     2    health  services   \n",
              "4       GP   F   16       U     GT3       T     3     3     other     other   \n",
              "..     ...  ..  ...     ...     ...     ...   ...   ...       ...       ...   \n",
              "390     MS   M   20       U     LE3       A     2     2  services  services   \n",
              "391     MS   M   17       U     LE3       T     3     1  services  services   \n",
              "392     MS   M   21       R     GT3       T     1     1     other     other   \n",
              "393     MS   M   18       R     LE3       T     3     2  services     other   \n",
              "394     MS   M   19       U     LE3       T     1     1     other   at_home   \n",
              "\n",
              "     ... famrel freetime  goout  Dalc  Walc health absences  G1  G2  G3  \n",
              "0    ...      4        3      4     1     1      3        6   5   6   6  \n",
              "1    ...      5        3      3     1     1      3        4   5   5   6  \n",
              "2    ...      4        3      2     2     3      3       10   7   8  10  \n",
              "3    ...      3        2      2     1     1      5        2  15  14  15  \n",
              "4    ...      4        3      2     1     2      5        4   6  10  10  \n",
              "..   ...    ...      ...    ...   ...   ...    ...      ...  ..  ..  ..  \n",
              "390  ...      5        5      4     4     5      4       11   9   9   9  \n",
              "391  ...      2        4      5     3     4      2        3  14  16  16  \n",
              "392  ...      5        5      3     3     3      3        3  10   8   7  \n",
              "393  ...      4        4      1     3     4      5        0  11  12  10  \n",
              "394  ...      3        2      3     3     3      5        5   8   9   9  \n",
              "\n",
              "[395 rows x 33 columns]"
            ],
            "text/html": [
              "\n",
              "  <div id=\"df-1d7fbd32-e349-4f16-98e9-760331af527d\">\n",
              "    <div class=\"colab-df-container\">\n",
              "      <div>\n",
              "<style scoped>\n",
              "    .dataframe tbody tr th:only-of-type {\n",
              "        vertical-align: middle;\n",
              "    }\n",
              "\n",
              "    .dataframe tbody tr th {\n",
              "        vertical-align: top;\n",
              "    }\n",
              "\n",
              "    .dataframe thead th {\n",
              "        text-align: right;\n",
              "    }\n",
              "</style>\n",
              "<table border=\"1\" class=\"dataframe\">\n",
              "  <thead>\n",
              "    <tr style=\"text-align: right;\">\n",
              "      <th></th>\n",
              "      <th>school</th>\n",
              "      <th>sex</th>\n",
              "      <th>age</th>\n",
              "      <th>address</th>\n",
              "      <th>famsize</th>\n",
              "      <th>Pstatus</th>\n",
              "      <th>Medu</th>\n",
              "      <th>Fedu</th>\n",
              "      <th>Mjob</th>\n",
              "      <th>Fjob</th>\n",
              "      <th>...</th>\n",
              "      <th>famrel</th>\n",
              "      <th>freetime</th>\n",
              "      <th>goout</th>\n",
              "      <th>Dalc</th>\n",
              "      <th>Walc</th>\n",
              "      <th>health</th>\n",
              "      <th>absences</th>\n",
              "      <th>G1</th>\n",
              "      <th>G2</th>\n",
              "      <th>G3</th>\n",
              "    </tr>\n",
              "  </thead>\n",
              "  <tbody>\n",
              "    <tr>\n",
              "      <th>0</th>\n",
              "      <td>GP</td>\n",
              "      <td>F</td>\n",
              "      <td>18</td>\n",
              "      <td>U</td>\n",
              "      <td>GT3</td>\n",
              "      <td>A</td>\n",
              "      <td>4</td>\n",
              "      <td>4</td>\n",
              "      <td>at_home</td>\n",
              "      <td>teacher</td>\n",
              "      <td>...</td>\n",
              "      <td>4</td>\n",
              "      <td>3</td>\n",
              "      <td>4</td>\n",
              "      <td>1</td>\n",
              "      <td>1</td>\n",
              "      <td>3</td>\n",
              "      <td>6</td>\n",
              "      <td>5</td>\n",
              "      <td>6</td>\n",
              "      <td>6</td>\n",
              "    </tr>\n",
              "    <tr>\n",
              "      <th>1</th>\n",
              "      <td>GP</td>\n",
              "      <td>F</td>\n",
              "      <td>17</td>\n",
              "      <td>U</td>\n",
              "      <td>GT3</td>\n",
              "      <td>T</td>\n",
              "      <td>1</td>\n",
              "      <td>1</td>\n",
              "      <td>at_home</td>\n",
              "      <td>other</td>\n",
              "      <td>...</td>\n",
              "      <td>5</td>\n",
              "      <td>3</td>\n",
              "      <td>3</td>\n",
              "      <td>1</td>\n",
              "      <td>1</td>\n",
              "      <td>3</td>\n",
              "      <td>4</td>\n",
              "      <td>5</td>\n",
              "      <td>5</td>\n",
              "      <td>6</td>\n",
              "    </tr>\n",
              "    <tr>\n",
              "      <th>2</th>\n",
              "      <td>GP</td>\n",
              "      <td>F</td>\n",
              "      <td>15</td>\n",
              "      <td>U</td>\n",
              "      <td>LE3</td>\n",
              "      <td>T</td>\n",
              "      <td>1</td>\n",
              "      <td>1</td>\n",
              "      <td>at_home</td>\n",
              "      <td>other</td>\n",
              "      <td>...</td>\n",
              "      <td>4</td>\n",
              "      <td>3</td>\n",
              "      <td>2</td>\n",
              "      <td>2</td>\n",
              "      <td>3</td>\n",
              "      <td>3</td>\n",
              "      <td>10</td>\n",
              "      <td>7</td>\n",
              "      <td>8</td>\n",
              "      <td>10</td>\n",
              "    </tr>\n",
              "    <tr>\n",
              "      <th>3</th>\n",
              "      <td>GP</td>\n",
              "      <td>F</td>\n",
              "      <td>15</td>\n",
              "      <td>U</td>\n",
              "      <td>GT3</td>\n",
              "      <td>T</td>\n",
              "      <td>4</td>\n",
              "      <td>2</td>\n",
              "      <td>health</td>\n",
              "      <td>services</td>\n",
              "      <td>...</td>\n",
              "      <td>3</td>\n",
              "      <td>2</td>\n",
              "      <td>2</td>\n",
              "      <td>1</td>\n",
              "      <td>1</td>\n",
              "      <td>5</td>\n",
              "      <td>2</td>\n",
              "      <td>15</td>\n",
              "      <td>14</td>\n",
              "      <td>15</td>\n",
              "    </tr>\n",
              "    <tr>\n",
              "      <th>4</th>\n",
              "      <td>GP</td>\n",
              "      <td>F</td>\n",
              "      <td>16</td>\n",
              "      <td>U</td>\n",
              "      <td>GT3</td>\n",
              "      <td>T</td>\n",
              "      <td>3</td>\n",
              "      <td>3</td>\n",
              "      <td>other</td>\n",
              "      <td>other</td>\n",
              "      <td>...</td>\n",
              "      <td>4</td>\n",
              "      <td>3</td>\n",
              "      <td>2</td>\n",
              "      <td>1</td>\n",
              "      <td>2</td>\n",
              "      <td>5</td>\n",
              "      <td>4</td>\n",
              "      <td>6</td>\n",
              "      <td>10</td>\n",
              "      <td>10</td>\n",
              "    </tr>\n",
              "    <tr>\n",
              "      <th>...</th>\n",
              "      <td>...</td>\n",
              "      <td>...</td>\n",
              "      <td>...</td>\n",
              "      <td>...</td>\n",
              "      <td>...</td>\n",
              "      <td>...</td>\n",
              "      <td>...</td>\n",
              "      <td>...</td>\n",
              "      <td>...</td>\n",
              "      <td>...</td>\n",
              "      <td>...</td>\n",
              "      <td>...</td>\n",
              "      <td>...</td>\n",
              "      <td>...</td>\n",
              "      <td>...</td>\n",
              "      <td>...</td>\n",
              "      <td>...</td>\n",
              "      <td>...</td>\n",
              "      <td>...</td>\n",
              "      <td>...</td>\n",
              "      <td>...</td>\n",
              "    </tr>\n",
              "    <tr>\n",
              "      <th>390</th>\n",
              "      <td>MS</td>\n",
              "      <td>M</td>\n",
              "      <td>20</td>\n",
              "      <td>U</td>\n",
              "      <td>LE3</td>\n",
              "      <td>A</td>\n",
              "      <td>2</td>\n",
              "      <td>2</td>\n",
              "      <td>services</td>\n",
              "      <td>services</td>\n",
              "      <td>...</td>\n",
              "      <td>5</td>\n",
              "      <td>5</td>\n",
              "      <td>4</td>\n",
              "      <td>4</td>\n",
              "      <td>5</td>\n",
              "      <td>4</td>\n",
              "      <td>11</td>\n",
              "      <td>9</td>\n",
              "      <td>9</td>\n",
              "      <td>9</td>\n",
              "    </tr>\n",
              "    <tr>\n",
              "      <th>391</th>\n",
              "      <td>MS</td>\n",
              "      <td>M</td>\n",
              "      <td>17</td>\n",
              "      <td>U</td>\n",
              "      <td>LE3</td>\n",
              "      <td>T</td>\n",
              "      <td>3</td>\n",
              "      <td>1</td>\n",
              "      <td>services</td>\n",
              "      <td>services</td>\n",
              "      <td>...</td>\n",
              "      <td>2</td>\n",
              "      <td>4</td>\n",
              "      <td>5</td>\n",
              "      <td>3</td>\n",
              "      <td>4</td>\n",
              "      <td>2</td>\n",
              "      <td>3</td>\n",
              "      <td>14</td>\n",
              "      <td>16</td>\n",
              "      <td>16</td>\n",
              "    </tr>\n",
              "    <tr>\n",
              "      <th>392</th>\n",
              "      <td>MS</td>\n",
              "      <td>M</td>\n",
              "      <td>21</td>\n",
              "      <td>R</td>\n",
              "      <td>GT3</td>\n",
              "      <td>T</td>\n",
              "      <td>1</td>\n",
              "      <td>1</td>\n",
              "      <td>other</td>\n",
              "      <td>other</td>\n",
              "      <td>...</td>\n",
              "      <td>5</td>\n",
              "      <td>5</td>\n",
              "      <td>3</td>\n",
              "      <td>3</td>\n",
              "      <td>3</td>\n",
              "      <td>3</td>\n",
              "      <td>3</td>\n",
              "      <td>10</td>\n",
              "      <td>8</td>\n",
              "      <td>7</td>\n",
              "    </tr>\n",
              "    <tr>\n",
              "      <th>393</th>\n",
              "      <td>MS</td>\n",
              "      <td>M</td>\n",
              "      <td>18</td>\n",
              "      <td>R</td>\n",
              "      <td>LE3</td>\n",
              "      <td>T</td>\n",
              "      <td>3</td>\n",
              "      <td>2</td>\n",
              "      <td>services</td>\n",
              "      <td>other</td>\n",
              "      <td>...</td>\n",
              "      <td>4</td>\n",
              "      <td>4</td>\n",
              "      <td>1</td>\n",
              "      <td>3</td>\n",
              "      <td>4</td>\n",
              "      <td>5</td>\n",
              "      <td>0</td>\n",
              "      <td>11</td>\n",
              "      <td>12</td>\n",
              "      <td>10</td>\n",
              "    </tr>\n",
              "    <tr>\n",
              "      <th>394</th>\n",
              "      <td>MS</td>\n",
              "      <td>M</td>\n",
              "      <td>19</td>\n",
              "      <td>U</td>\n",
              "      <td>LE3</td>\n",
              "      <td>T</td>\n",
              "      <td>1</td>\n",
              "      <td>1</td>\n",
              "      <td>other</td>\n",
              "      <td>at_home</td>\n",
              "      <td>...</td>\n",
              "      <td>3</td>\n",
              "      <td>2</td>\n",
              "      <td>3</td>\n",
              "      <td>3</td>\n",
              "      <td>3</td>\n",
              "      <td>5</td>\n",
              "      <td>5</td>\n",
              "      <td>8</td>\n",
              "      <td>9</td>\n",
              "      <td>9</td>\n",
              "    </tr>\n",
              "  </tbody>\n",
              "</table>\n",
              "<p>395 rows × 33 columns</p>\n",
              "</div>\n",
              "      <button class=\"colab-df-convert\" onclick=\"convertToInteractive('df-1d7fbd32-e349-4f16-98e9-760331af527d')\"\n",
              "              title=\"Convert this dataframe to an interactive table.\"\n",
              "              style=\"display:none;\">\n",
              "        \n",
              "  <svg xmlns=\"http://www.w3.org/2000/svg\" height=\"24px\"viewBox=\"0 0 24 24\"\n",
              "       width=\"24px\">\n",
              "    <path d=\"M0 0h24v24H0V0z\" fill=\"none\"/>\n",
              "    <path d=\"M18.56 5.44l.94 2.06.94-2.06 2.06-.94-2.06-.94-.94-2.06-.94 2.06-2.06.94zm-11 1L8.5 8.5l.94-2.06 2.06-.94-2.06-.94L8.5 2.5l-.94 2.06-2.06.94zm10 10l.94 2.06.94-2.06 2.06-.94-2.06-.94-.94-2.06-.94 2.06-2.06.94z\"/><path d=\"M17.41 7.96l-1.37-1.37c-.4-.4-.92-.59-1.43-.59-.52 0-1.04.2-1.43.59L10.3 9.45l-7.72 7.72c-.78.78-.78 2.05 0 2.83L4 21.41c.39.39.9.59 1.41.59.51 0 1.02-.2 1.41-.59l7.78-7.78 2.81-2.81c.8-.78.8-2.07 0-2.86zM5.41 20L4 18.59l7.72-7.72 1.47 1.35L5.41 20z\"/>\n",
              "  </svg>\n",
              "      </button>\n",
              "      \n",
              "  <style>\n",
              "    .colab-df-container {\n",
              "      display:flex;\n",
              "      flex-wrap:wrap;\n",
              "      gap: 12px;\n",
              "    }\n",
              "\n",
              "    .colab-df-convert {\n",
              "      background-color: #E8F0FE;\n",
              "      border: none;\n",
              "      border-radius: 50%;\n",
              "      cursor: pointer;\n",
              "      display: none;\n",
              "      fill: #1967D2;\n",
              "      height: 32px;\n",
              "      padding: 0 0 0 0;\n",
              "      width: 32px;\n",
              "    }\n",
              "\n",
              "    .colab-df-convert:hover {\n",
              "      background-color: #E2EBFA;\n",
              "      box-shadow: 0px 1px 2px rgba(60, 64, 67, 0.3), 0px 1px 3px 1px rgba(60, 64, 67, 0.15);\n",
              "      fill: #174EA6;\n",
              "    }\n",
              "\n",
              "    [theme=dark] .colab-df-convert {\n",
              "      background-color: #3B4455;\n",
              "      fill: #D2E3FC;\n",
              "    }\n",
              "\n",
              "    [theme=dark] .colab-df-convert:hover {\n",
              "      background-color: #434B5C;\n",
              "      box-shadow: 0px 1px 3px 1px rgba(0, 0, 0, 0.15);\n",
              "      filter: drop-shadow(0px 1px 2px rgba(0, 0, 0, 0.3));\n",
              "      fill: #FFFFFF;\n",
              "    }\n",
              "  </style>\n",
              "\n",
              "      <script>\n",
              "        const buttonEl =\n",
              "          document.querySelector('#df-1d7fbd32-e349-4f16-98e9-760331af527d button.colab-df-convert');\n",
              "        buttonEl.style.display =\n",
              "          google.colab.kernel.accessAllowed ? 'block' : 'none';\n",
              "\n",
              "        async function convertToInteractive(key) {\n",
              "          const element = document.querySelector('#df-1d7fbd32-e349-4f16-98e9-760331af527d');\n",
              "          const dataTable =\n",
              "            await google.colab.kernel.invokeFunction('convertToInteractive',\n",
              "                                                     [key], {});\n",
              "          if (!dataTable) return;\n",
              "\n",
              "          const docLinkHtml = 'Like what you see? Visit the ' +\n",
              "            '<a target=\"_blank\" href=https://colab.research.google.com/notebooks/data_table.ipynb>data table notebook</a>'\n",
              "            + ' to learn more about interactive tables.';\n",
              "          element.innerHTML = '';\n",
              "          dataTable['output_type'] = 'display_data';\n",
              "          await google.colab.output.renderOutput(dataTable, element);\n",
              "          const docLink = document.createElement('div');\n",
              "          docLink.innerHTML = docLinkHtml;\n",
              "          element.appendChild(docLink);\n",
              "        }\n",
              "      </script>\n",
              "    </div>\n",
              "  </div>\n",
              "  "
            ]
          },
          "metadata": {},
          "execution_count": 3
        }
      ]
    },
    {
      "cell_type": "code",
      "source": [
        "data.isna().sum()"
      ],
      "metadata": {
        "id": "dJbdQKUDoKH4",
        "colab": {
          "base_uri": "https://localhost:8080/"
        },
        "outputId": "77b6e3ef-a662-4def-dca9-6943d979b986"
      },
      "execution_count": null,
      "outputs": [
        {
          "output_type": "execute_result",
          "data": {
            "text/plain": [
              "school        0\n",
              "sex           0\n",
              "age           0\n",
              "address       0\n",
              "famsize       0\n",
              "Pstatus       0\n",
              "Medu          0\n",
              "Fedu          0\n",
              "Mjob          0\n",
              "Fjob          0\n",
              "reason        0\n",
              "guardian      0\n",
              "traveltime    0\n",
              "studytime     0\n",
              "failures      0\n",
              "schoolsup     0\n",
              "famsup        0\n",
              "paid          0\n",
              "activities    0\n",
              "nursery       0\n",
              "higher        0\n",
              "internet      0\n",
              "romantic      0\n",
              "famrel        0\n",
              "freetime      0\n",
              "goout         0\n",
              "Dalc          0\n",
              "Walc          0\n",
              "health        0\n",
              "absences      0\n",
              "G1            0\n",
              "G2            0\n",
              "G3            0\n",
              "dtype: int64"
            ]
          },
          "metadata": {},
          "execution_count": 4
        }
      ]
    },
    {
      "cell_type": "code",
      "source": [
        "for i in range(data.shape[1]):\n",
        "  print(data.iloc[:,i].unique())"
      ],
      "metadata": {
        "id": "uH5iAmA4oKBi",
        "colab": {
          "base_uri": "https://localhost:8080/"
        },
        "outputId": "b2361c91-37cb-4eb0-ae15-4d50ae835356"
      },
      "execution_count": null,
      "outputs": [
        {
          "output_type": "stream",
          "name": "stdout",
          "text": [
            "['GP' 'MS']\n",
            "['F' 'M']\n",
            "[18 17 15 16 19 22 20 21]\n",
            "['U' 'R']\n",
            "['GT3' 'LE3']\n",
            "['A' 'T']\n",
            "[4 1 3 2 0]\n",
            "[4 1 2 3 0]\n",
            "['at_home' 'health' 'other' 'services' 'teacher']\n",
            "['teacher' 'other' 'services' 'health' 'at_home']\n",
            "['course' 'other' 'home' 'reputation']\n",
            "['mother' 'father' 'other']\n",
            "[2 1 3 4]\n",
            "[2 3 1 4]\n",
            "[0 3 2 1]\n",
            "['yes' 'no']\n",
            "['no' 'yes']\n",
            "['no' 'yes']\n",
            "['no' 'yes']\n",
            "['yes' 'no']\n",
            "['yes' 'no']\n",
            "['no' 'yes']\n",
            "['no' 'yes']\n",
            "[4 5 3 1 2]\n",
            "[3 2 4 1 5]\n",
            "[4 3 2 1 5]\n",
            "[1 2 5 3 4]\n",
            "[1 3 2 4 5]\n",
            "[3 5 1 2 4]\n",
            "[ 6  4 10  2  0 16 14  7  8 25 12 54 18 26 20 56 24 28  5 13 15 22  3 21\n",
            "  1 75 30 19  9 11 38 40 23 17]\n",
            "[ 5  7 15  6 12 16 14 10 13  8 11  9 17 19 18  4  3]\n",
            "[ 6  5  8 14 10 15 12 18 16 13  9 11  7 19 17  4  0]\n",
            "[ 6 10 15 11 19  9 12 14 16  5  8 17 18 13 20  7  0  4]\n"
          ]
        }
      ]
    },
    {
      "cell_type": "code",
      "source": [
        "for i in range(data.shape[1]):\n",
        "  print(data.iloc[:,i].value_counts())"
      ],
      "metadata": {
        "id": "Yv4Euj7kpOoD",
        "colab": {
          "base_uri": "https://localhost:8080/"
        },
        "outputId": "6f24a3f3-ca68-4f2b-bd42-b1a6c7f16cf2"
      },
      "execution_count": null,
      "outputs": [
        {
          "output_type": "stream",
          "name": "stdout",
          "text": [
            "GP    349\n",
            "MS     46\n",
            "Name: school, dtype: int64\n",
            "F    208\n",
            "M    187\n",
            "Name: sex, dtype: int64\n",
            "16    104\n",
            "17     98\n",
            "18     82\n",
            "15     82\n",
            "19     24\n",
            "20      3\n",
            "22      1\n",
            "21      1\n",
            "Name: age, dtype: int64\n",
            "U    307\n",
            "R     88\n",
            "Name: address, dtype: int64\n",
            "GT3    281\n",
            "LE3    114\n",
            "Name: famsize, dtype: int64\n",
            "T    354\n",
            "A     41\n",
            "Name: Pstatus, dtype: int64\n",
            "4    131\n",
            "2    103\n",
            "3     99\n",
            "1     59\n",
            "0      3\n",
            "Name: Medu, dtype: int64\n",
            "2    115\n",
            "3    100\n",
            "4     96\n",
            "1     82\n",
            "0      2\n",
            "Name: Fedu, dtype: int64\n",
            "other       141\n",
            "services    103\n",
            "at_home      59\n",
            "teacher      58\n",
            "health       34\n",
            "Name: Mjob, dtype: int64\n",
            "other       217\n",
            "services    111\n",
            "teacher      29\n",
            "at_home      20\n",
            "health       18\n",
            "Name: Fjob, dtype: int64\n",
            "course        145\n",
            "home          109\n",
            "reputation    105\n",
            "other          36\n",
            "Name: reason, dtype: int64\n",
            "mother    273\n",
            "father     90\n",
            "other      32\n",
            "Name: guardian, dtype: int64\n",
            "1    257\n",
            "2    107\n",
            "3     23\n",
            "4      8\n",
            "Name: traveltime, dtype: int64\n",
            "2    198\n",
            "1    105\n",
            "3     65\n",
            "4     27\n",
            "Name: studytime, dtype: int64\n",
            "0    312\n",
            "1     50\n",
            "2     17\n",
            "3     16\n",
            "Name: failures, dtype: int64\n",
            "no     344\n",
            "yes     51\n",
            "Name: schoolsup, dtype: int64\n",
            "yes    242\n",
            "no     153\n",
            "Name: famsup, dtype: int64\n",
            "no     214\n",
            "yes    181\n",
            "Name: paid, dtype: int64\n",
            "yes    201\n",
            "no     194\n",
            "Name: activities, dtype: int64\n",
            "yes    314\n",
            "no      81\n",
            "Name: nursery, dtype: int64\n",
            "yes    375\n",
            "no      20\n",
            "Name: higher, dtype: int64\n",
            "yes    329\n",
            "no      66\n",
            "Name: internet, dtype: int64\n",
            "no     263\n",
            "yes    132\n",
            "Name: romantic, dtype: int64\n",
            "4    195\n",
            "5    106\n",
            "3     68\n",
            "2     18\n",
            "1      8\n",
            "Name: famrel, dtype: int64\n",
            "3    157\n",
            "4    115\n",
            "2     64\n",
            "5     40\n",
            "1     19\n",
            "Name: freetime, dtype: int64\n",
            "3    130\n",
            "2    103\n",
            "4     86\n",
            "5     53\n",
            "1     23\n",
            "Name: goout, dtype: int64\n",
            "1    276\n",
            "2     75\n",
            "3     26\n",
            "5      9\n",
            "4      9\n",
            "Name: Dalc, dtype: int64\n",
            "1    151\n",
            "2     85\n",
            "3     80\n",
            "4     51\n",
            "5     28\n",
            "Name: Walc, dtype: int64\n",
            "5    146\n",
            "3     91\n",
            "4     66\n",
            "1     47\n",
            "2     45\n",
            "Name: health, dtype: int64\n",
            "0     115\n",
            "2      65\n",
            "4      53\n",
            "6      31\n",
            "8      22\n",
            "10     17\n",
            "14     12\n",
            "12     12\n",
            "3       8\n",
            "16      7\n",
            "7       7\n",
            "5       5\n",
            "18      5\n",
            "20      4\n",
            "11      3\n",
            "9       3\n",
            "13      3\n",
            "15      3\n",
            "22      3\n",
            "1       3\n",
            "38      1\n",
            "30      1\n",
            "40      1\n",
            "23      1\n",
            "19      1\n",
            "28      1\n",
            "75      1\n",
            "21      1\n",
            "24      1\n",
            "56      1\n",
            "26      1\n",
            "54      1\n",
            "25      1\n",
            "17      1\n",
            "Name: absences, dtype: int64\n",
            "10    51\n",
            "8     41\n",
            "11    39\n",
            "7     37\n",
            "12    35\n",
            "13    33\n",
            "9     31\n",
            "14    30\n",
            "15    24\n",
            "6     24\n",
            "16    22\n",
            "18     8\n",
            "17     8\n",
            "5      7\n",
            "19     3\n",
            "4      1\n",
            "3      1\n",
            "Name: G1, dtype: int64\n",
            "9     50\n",
            "10    46\n",
            "12    41\n",
            "13    37\n",
            "11    35\n",
            "15    34\n",
            "8     32\n",
            "14    23\n",
            "7     21\n",
            "5     15\n",
            "6     14\n",
            "16    13\n",
            "0     13\n",
            "18    12\n",
            "17     5\n",
            "19     3\n",
            "4      1\n",
            "Name: G2, dtype: int64\n",
            "10    56\n",
            "11    47\n",
            "0     38\n",
            "15    33\n",
            "8     32\n",
            "13    31\n",
            "12    31\n",
            "9     28\n",
            "14    27\n",
            "16    16\n",
            "6     15\n",
            "18    12\n",
            "7      9\n",
            "5      7\n",
            "17     6\n",
            "19     5\n",
            "20     1\n",
            "4      1\n",
            "Name: G3, dtype: int64\n"
          ]
        }
      ]
    },
    {
      "cell_type": "code",
      "source": [
        "data['Sch_int'] = data.school.map({'GP':0, 'MS':1})\n",
        "data['gender'] = data.sex.map({'F':0, 'M':1})\n",
        "data['add_int'] = data.address.map({'U':0, 'R':1})\n",
        "data['act_int'] = data.activities.map({'yes':0, 'no':1})\n",
        "data['reason_int'] = data.reason.map({'home':0, 'reputation':1, 'course':2, 'other':3})\n",
        "data['paid_int'] = data.paid.map({'yes':0, 'no':1})\n",
        "data['schoolsup_int'] = data.schoolsup.map({'yes':0, 'no':1})\n",
        "data['fs_int'] = data.famsize.map({'GT3':0, 'LE3':1})\n",
        "data['ps_int'] = data.Pstatus.map({'A':0, 'T':1})\n",
        "data['nur_int'] = data.nursery.map({'yes':0, 'no':1})\n",
        "data['high_int'] = data.higher.map({'yes':0, 'no':1})\n",
        "data['int_int'] = data.internet.map({'yes':0, 'no':1})\n",
        "data['rom_int'] = data.romantic.map({'yes':0, 'no':1})\n",
        "data"
      ],
      "metadata": {
        "colab": {
          "base_uri": "https://localhost:8080/",
          "height": 487
        },
        "id": "ZFnkRzAH1_BT",
        "outputId": "ff976618-b30d-4ae1-e497-82b01692502e"
      },
      "execution_count": null,
      "outputs": [
        {
          "output_type": "execute_result",
          "data": {
            "text/plain": [
              "    school sex  age address famsize Pstatus  Medu  Fedu      Mjob      Fjob  \\\n",
              "0       GP   F   18       U     GT3       A     4     4   at_home   teacher   \n",
              "1       GP   F   17       U     GT3       T     1     1   at_home     other   \n",
              "2       GP   F   15       U     LE3       T     1     1   at_home     other   \n",
              "3       GP   F   15       U     GT3       T     4     2    health  services   \n",
              "4       GP   F   16       U     GT3       T     3     3     other     other   \n",
              "..     ...  ..  ...     ...     ...     ...   ...   ...       ...       ...   \n",
              "390     MS   M   20       U     LE3       A     2     2  services  services   \n",
              "391     MS   M   17       U     LE3       T     3     1  services  services   \n",
              "392     MS   M   21       R     GT3       T     1     1     other     other   \n",
              "393     MS   M   18       R     LE3       T     3     2  services     other   \n",
              "394     MS   M   19       U     LE3       T     1     1     other   at_home   \n",
              "\n",
              "     ... act_int reason_int  paid_int  schoolsup_int  fs_int ps_int nur_int  \\\n",
              "0    ...       1          2         1              0       0      0       0   \n",
              "1    ...       1          2         1              1       0      1       1   \n",
              "2    ...       1          3         0              0       1      1       0   \n",
              "3    ...       0          0         0              1       0      1       0   \n",
              "4    ...       1          0         0              1       0      1       0   \n",
              "..   ...     ...        ...       ...            ...     ...    ...     ...   \n",
              "390  ...       1          2         0              1       1      0       0   \n",
              "391  ...       1          2         1              1       1      1       1   \n",
              "392  ...       1          2         1              1       0      1       1   \n",
              "393  ...       1          2         1              1       1      1       1   \n",
              "394  ...       1          2         1              1       1      1       0   \n",
              "\n",
              "    high_int int_int rom_int  \n",
              "0          0       1       1  \n",
              "1          0       0       1  \n",
              "2          0       0       1  \n",
              "3          0       0       0  \n",
              "4          0       1       1  \n",
              "..       ...     ...     ...  \n",
              "390        0       1       1  \n",
              "391        0       0       1  \n",
              "392        0       1       1  \n",
              "393        0       0       1  \n",
              "394        0       0       1  \n",
              "\n",
              "[395 rows x 46 columns]"
            ],
            "text/html": [
              "\n",
              "  <div id=\"df-8129c74a-3c56-4324-9745-a86bc9846a59\">\n",
              "    <div class=\"colab-df-container\">\n",
              "      <div>\n",
              "<style scoped>\n",
              "    .dataframe tbody tr th:only-of-type {\n",
              "        vertical-align: middle;\n",
              "    }\n",
              "\n",
              "    .dataframe tbody tr th {\n",
              "        vertical-align: top;\n",
              "    }\n",
              "\n",
              "    .dataframe thead th {\n",
              "        text-align: right;\n",
              "    }\n",
              "</style>\n",
              "<table border=\"1\" class=\"dataframe\">\n",
              "  <thead>\n",
              "    <tr style=\"text-align: right;\">\n",
              "      <th></th>\n",
              "      <th>school</th>\n",
              "      <th>sex</th>\n",
              "      <th>age</th>\n",
              "      <th>address</th>\n",
              "      <th>famsize</th>\n",
              "      <th>Pstatus</th>\n",
              "      <th>Medu</th>\n",
              "      <th>Fedu</th>\n",
              "      <th>Mjob</th>\n",
              "      <th>Fjob</th>\n",
              "      <th>...</th>\n",
              "      <th>act_int</th>\n",
              "      <th>reason_int</th>\n",
              "      <th>paid_int</th>\n",
              "      <th>schoolsup_int</th>\n",
              "      <th>fs_int</th>\n",
              "      <th>ps_int</th>\n",
              "      <th>nur_int</th>\n",
              "      <th>high_int</th>\n",
              "      <th>int_int</th>\n",
              "      <th>rom_int</th>\n",
              "    </tr>\n",
              "  </thead>\n",
              "  <tbody>\n",
              "    <tr>\n",
              "      <th>0</th>\n",
              "      <td>GP</td>\n",
              "      <td>F</td>\n",
              "      <td>18</td>\n",
              "      <td>U</td>\n",
              "      <td>GT3</td>\n",
              "      <td>A</td>\n",
              "      <td>4</td>\n",
              "      <td>4</td>\n",
              "      <td>at_home</td>\n",
              "      <td>teacher</td>\n",
              "      <td>...</td>\n",
              "      <td>1</td>\n",
              "      <td>2</td>\n",
              "      <td>1</td>\n",
              "      <td>0</td>\n",
              "      <td>0</td>\n",
              "      <td>0</td>\n",
              "      <td>0</td>\n",
              "      <td>0</td>\n",
              "      <td>1</td>\n",
              "      <td>1</td>\n",
              "    </tr>\n",
              "    <tr>\n",
              "      <th>1</th>\n",
              "      <td>GP</td>\n",
              "      <td>F</td>\n",
              "      <td>17</td>\n",
              "      <td>U</td>\n",
              "      <td>GT3</td>\n",
              "      <td>T</td>\n",
              "      <td>1</td>\n",
              "      <td>1</td>\n",
              "      <td>at_home</td>\n",
              "      <td>other</td>\n",
              "      <td>...</td>\n",
              "      <td>1</td>\n",
              "      <td>2</td>\n",
              "      <td>1</td>\n",
              "      <td>1</td>\n",
              "      <td>0</td>\n",
              "      <td>1</td>\n",
              "      <td>1</td>\n",
              "      <td>0</td>\n",
              "      <td>0</td>\n",
              "      <td>1</td>\n",
              "    </tr>\n",
              "    <tr>\n",
              "      <th>2</th>\n",
              "      <td>GP</td>\n",
              "      <td>F</td>\n",
              "      <td>15</td>\n",
              "      <td>U</td>\n",
              "      <td>LE3</td>\n",
              "      <td>T</td>\n",
              "      <td>1</td>\n",
              "      <td>1</td>\n",
              "      <td>at_home</td>\n",
              "      <td>other</td>\n",
              "      <td>...</td>\n",
              "      <td>1</td>\n",
              "      <td>3</td>\n",
              "      <td>0</td>\n",
              "      <td>0</td>\n",
              "      <td>1</td>\n",
              "      <td>1</td>\n",
              "      <td>0</td>\n",
              "      <td>0</td>\n",
              "      <td>0</td>\n",
              "      <td>1</td>\n",
              "    </tr>\n",
              "    <tr>\n",
              "      <th>3</th>\n",
              "      <td>GP</td>\n",
              "      <td>F</td>\n",
              "      <td>15</td>\n",
              "      <td>U</td>\n",
              "      <td>GT3</td>\n",
              "      <td>T</td>\n",
              "      <td>4</td>\n",
              "      <td>2</td>\n",
              "      <td>health</td>\n",
              "      <td>services</td>\n",
              "      <td>...</td>\n",
              "      <td>0</td>\n",
              "      <td>0</td>\n",
              "      <td>0</td>\n",
              "      <td>1</td>\n",
              "      <td>0</td>\n",
              "      <td>1</td>\n",
              "      <td>0</td>\n",
              "      <td>0</td>\n",
              "      <td>0</td>\n",
              "      <td>0</td>\n",
              "    </tr>\n",
              "    <tr>\n",
              "      <th>4</th>\n",
              "      <td>GP</td>\n",
              "      <td>F</td>\n",
              "      <td>16</td>\n",
              "      <td>U</td>\n",
              "      <td>GT3</td>\n",
              "      <td>T</td>\n",
              "      <td>3</td>\n",
              "      <td>3</td>\n",
              "      <td>other</td>\n",
              "      <td>other</td>\n",
              "      <td>...</td>\n",
              "      <td>1</td>\n",
              "      <td>0</td>\n",
              "      <td>0</td>\n",
              "      <td>1</td>\n",
              "      <td>0</td>\n",
              "      <td>1</td>\n",
              "      <td>0</td>\n",
              "      <td>0</td>\n",
              "      <td>1</td>\n",
              "      <td>1</td>\n",
              "    </tr>\n",
              "    <tr>\n",
              "      <th>...</th>\n",
              "      <td>...</td>\n",
              "      <td>...</td>\n",
              "      <td>...</td>\n",
              "      <td>...</td>\n",
              "      <td>...</td>\n",
              "      <td>...</td>\n",
              "      <td>...</td>\n",
              "      <td>...</td>\n",
              "      <td>...</td>\n",
              "      <td>...</td>\n",
              "      <td>...</td>\n",
              "      <td>...</td>\n",
              "      <td>...</td>\n",
              "      <td>...</td>\n",
              "      <td>...</td>\n",
              "      <td>...</td>\n",
              "      <td>...</td>\n",
              "      <td>...</td>\n",
              "      <td>...</td>\n",
              "      <td>...</td>\n",
              "      <td>...</td>\n",
              "    </tr>\n",
              "    <tr>\n",
              "      <th>390</th>\n",
              "      <td>MS</td>\n",
              "      <td>M</td>\n",
              "      <td>20</td>\n",
              "      <td>U</td>\n",
              "      <td>LE3</td>\n",
              "      <td>A</td>\n",
              "      <td>2</td>\n",
              "      <td>2</td>\n",
              "      <td>services</td>\n",
              "      <td>services</td>\n",
              "      <td>...</td>\n",
              "      <td>1</td>\n",
              "      <td>2</td>\n",
              "      <td>0</td>\n",
              "      <td>1</td>\n",
              "      <td>1</td>\n",
              "      <td>0</td>\n",
              "      <td>0</td>\n",
              "      <td>0</td>\n",
              "      <td>1</td>\n",
              "      <td>1</td>\n",
              "    </tr>\n",
              "    <tr>\n",
              "      <th>391</th>\n",
              "      <td>MS</td>\n",
              "      <td>M</td>\n",
              "      <td>17</td>\n",
              "      <td>U</td>\n",
              "      <td>LE3</td>\n",
              "      <td>T</td>\n",
              "      <td>3</td>\n",
              "      <td>1</td>\n",
              "      <td>services</td>\n",
              "      <td>services</td>\n",
              "      <td>...</td>\n",
              "      <td>1</td>\n",
              "      <td>2</td>\n",
              "      <td>1</td>\n",
              "      <td>1</td>\n",
              "      <td>1</td>\n",
              "      <td>1</td>\n",
              "      <td>1</td>\n",
              "      <td>0</td>\n",
              "      <td>0</td>\n",
              "      <td>1</td>\n",
              "    </tr>\n",
              "    <tr>\n",
              "      <th>392</th>\n",
              "      <td>MS</td>\n",
              "      <td>M</td>\n",
              "      <td>21</td>\n",
              "      <td>R</td>\n",
              "      <td>GT3</td>\n",
              "      <td>T</td>\n",
              "      <td>1</td>\n",
              "      <td>1</td>\n",
              "      <td>other</td>\n",
              "      <td>other</td>\n",
              "      <td>...</td>\n",
              "      <td>1</td>\n",
              "      <td>2</td>\n",
              "      <td>1</td>\n",
              "      <td>1</td>\n",
              "      <td>0</td>\n",
              "      <td>1</td>\n",
              "      <td>1</td>\n",
              "      <td>0</td>\n",
              "      <td>1</td>\n",
              "      <td>1</td>\n",
              "    </tr>\n",
              "    <tr>\n",
              "      <th>393</th>\n",
              "      <td>MS</td>\n",
              "      <td>M</td>\n",
              "      <td>18</td>\n",
              "      <td>R</td>\n",
              "      <td>LE3</td>\n",
              "      <td>T</td>\n",
              "      <td>3</td>\n",
              "      <td>2</td>\n",
              "      <td>services</td>\n",
              "      <td>other</td>\n",
              "      <td>...</td>\n",
              "      <td>1</td>\n",
              "      <td>2</td>\n",
              "      <td>1</td>\n",
              "      <td>1</td>\n",
              "      <td>1</td>\n",
              "      <td>1</td>\n",
              "      <td>1</td>\n",
              "      <td>0</td>\n",
              "      <td>0</td>\n",
              "      <td>1</td>\n",
              "    </tr>\n",
              "    <tr>\n",
              "      <th>394</th>\n",
              "      <td>MS</td>\n",
              "      <td>M</td>\n",
              "      <td>19</td>\n",
              "      <td>U</td>\n",
              "      <td>LE3</td>\n",
              "      <td>T</td>\n",
              "      <td>1</td>\n",
              "      <td>1</td>\n",
              "      <td>other</td>\n",
              "      <td>at_home</td>\n",
              "      <td>...</td>\n",
              "      <td>1</td>\n",
              "      <td>2</td>\n",
              "      <td>1</td>\n",
              "      <td>1</td>\n",
              "      <td>1</td>\n",
              "      <td>1</td>\n",
              "      <td>0</td>\n",
              "      <td>0</td>\n",
              "      <td>0</td>\n",
              "      <td>1</td>\n",
              "    </tr>\n",
              "  </tbody>\n",
              "</table>\n",
              "<p>395 rows × 46 columns</p>\n",
              "</div>\n",
              "      <button class=\"colab-df-convert\" onclick=\"convertToInteractive('df-8129c74a-3c56-4324-9745-a86bc9846a59')\"\n",
              "              title=\"Convert this dataframe to an interactive table.\"\n",
              "              style=\"display:none;\">\n",
              "        \n",
              "  <svg xmlns=\"http://www.w3.org/2000/svg\" height=\"24px\"viewBox=\"0 0 24 24\"\n",
              "       width=\"24px\">\n",
              "    <path d=\"M0 0h24v24H0V0z\" fill=\"none\"/>\n",
              "    <path d=\"M18.56 5.44l.94 2.06.94-2.06 2.06-.94-2.06-.94-.94-2.06-.94 2.06-2.06.94zm-11 1L8.5 8.5l.94-2.06 2.06-.94-2.06-.94L8.5 2.5l-.94 2.06-2.06.94zm10 10l.94 2.06.94-2.06 2.06-.94-2.06-.94-.94-2.06-.94 2.06-2.06.94z\"/><path d=\"M17.41 7.96l-1.37-1.37c-.4-.4-.92-.59-1.43-.59-.52 0-1.04.2-1.43.59L10.3 9.45l-7.72 7.72c-.78.78-.78 2.05 0 2.83L4 21.41c.39.39.9.59 1.41.59.51 0 1.02-.2 1.41-.59l7.78-7.78 2.81-2.81c.8-.78.8-2.07 0-2.86zM5.41 20L4 18.59l7.72-7.72 1.47 1.35L5.41 20z\"/>\n",
              "  </svg>\n",
              "      </button>\n",
              "      \n",
              "  <style>\n",
              "    .colab-df-container {\n",
              "      display:flex;\n",
              "      flex-wrap:wrap;\n",
              "      gap: 12px;\n",
              "    }\n",
              "\n",
              "    .colab-df-convert {\n",
              "      background-color: #E8F0FE;\n",
              "      border: none;\n",
              "      border-radius: 50%;\n",
              "      cursor: pointer;\n",
              "      display: none;\n",
              "      fill: #1967D2;\n",
              "      height: 32px;\n",
              "      padding: 0 0 0 0;\n",
              "      width: 32px;\n",
              "    }\n",
              "\n",
              "    .colab-df-convert:hover {\n",
              "      background-color: #E2EBFA;\n",
              "      box-shadow: 0px 1px 2px rgba(60, 64, 67, 0.3), 0px 1px 3px 1px rgba(60, 64, 67, 0.15);\n",
              "      fill: #174EA6;\n",
              "    }\n",
              "\n",
              "    [theme=dark] .colab-df-convert {\n",
              "      background-color: #3B4455;\n",
              "      fill: #D2E3FC;\n",
              "    }\n",
              "\n",
              "    [theme=dark] .colab-df-convert:hover {\n",
              "      background-color: #434B5C;\n",
              "      box-shadow: 0px 1px 3px 1px rgba(0, 0, 0, 0.15);\n",
              "      filter: drop-shadow(0px 1px 2px rgba(0, 0, 0, 0.3));\n",
              "      fill: #FFFFFF;\n",
              "    }\n",
              "  </style>\n",
              "\n",
              "      <script>\n",
              "        const buttonEl =\n",
              "          document.querySelector('#df-8129c74a-3c56-4324-9745-a86bc9846a59 button.colab-df-convert');\n",
              "        buttonEl.style.display =\n",
              "          google.colab.kernel.accessAllowed ? 'block' : 'none';\n",
              "\n",
              "        async function convertToInteractive(key) {\n",
              "          const element = document.querySelector('#df-8129c74a-3c56-4324-9745-a86bc9846a59');\n",
              "          const dataTable =\n",
              "            await google.colab.kernel.invokeFunction('convertToInteractive',\n",
              "                                                     [key], {});\n",
              "          if (!dataTable) return;\n",
              "\n",
              "          const docLinkHtml = 'Like what you see? Visit the ' +\n",
              "            '<a target=\"_blank\" href=https://colab.research.google.com/notebooks/data_table.ipynb>data table notebook</a>'\n",
              "            + ' to learn more about interactive tables.';\n",
              "          element.innerHTML = '';\n",
              "          dataTable['output_type'] = 'display_data';\n",
              "          await google.colab.output.renderOutput(dataTable, element);\n",
              "          const docLink = document.createElement('div');\n",
              "          docLink.innerHTML = docLinkHtml;\n",
              "          element.appendChild(docLink);\n",
              "        }\n",
              "      </script>\n",
              "    </div>\n",
              "  </div>\n",
              "  "
            ]
          },
          "metadata": {},
          "execution_count": 7
        }
      ]
    },
    {
      "cell_type": "code",
      "source": [
        "a = data[{\"Sch_int\",\"gender\",\"add_int\",\"reason_int\",\"studytime\",\"failures\",\"schoolsup_int\",\"paid_int\",\"act_int\",\"health\",\"absences\",\"G1\",\"G2\",'G3'}]\n",
        "a"
      ],
      "metadata": {
        "id": "kLxYyHOlOlFO",
        "colab": {
          "base_uri": "https://localhost:8080/",
          "height": 423
        },
        "outputId": "eaf043f3-2f65-40dd-ec8f-25d8dae10ef0"
      },
      "execution_count": null,
      "outputs": [
        {
          "output_type": "execute_result",
          "data": {
            "text/plain": [
              "     G1  health  absences  schoolsup_int  paid_int  act_int  reason_int  G2  \\\n",
              "0     5       3         6              0         1        1           2   6   \n",
              "1     5       3         4              1         1        1           2   5   \n",
              "2     7       3        10              0         0        1           3   8   \n",
              "3    15       5         2              1         0        0           0  14   \n",
              "4     6       5         4              1         0        1           0  10   \n",
              "..   ..     ...       ...            ...       ...      ...         ...  ..   \n",
              "390   9       4        11              1         0        1           2   9   \n",
              "391  14       2         3              1         1        1           2  16   \n",
              "392  10       3         3              1         1        1           2   8   \n",
              "393  11       5         0              1         1        1           2  12   \n",
              "394   8       5         5              1         1        1           2   9   \n",
              "\n",
              "     Sch_int  G3  studytime  add_int  gender  failures  \n",
              "0          0   6          2        0       0         0  \n",
              "1          0   6          2        0       0         0  \n",
              "2          0  10          2        0       0         3  \n",
              "3          0  15          3        0       0         0  \n",
              "4          0  10          2        0       0         0  \n",
              "..       ...  ..        ...      ...     ...       ...  \n",
              "390        1   9          2        0       1         2  \n",
              "391        1  16          1        0       1         0  \n",
              "392        1   7          1        1       1         3  \n",
              "393        1  10          1        1       1         0  \n",
              "394        1   9          1        0       1         0  \n",
              "\n",
              "[395 rows x 14 columns]"
            ],
            "text/html": [
              "\n",
              "  <div id=\"df-43de4062-9d71-4a13-9b6e-6b5dbc101aac\">\n",
              "    <div class=\"colab-df-container\">\n",
              "      <div>\n",
              "<style scoped>\n",
              "    .dataframe tbody tr th:only-of-type {\n",
              "        vertical-align: middle;\n",
              "    }\n",
              "\n",
              "    .dataframe tbody tr th {\n",
              "        vertical-align: top;\n",
              "    }\n",
              "\n",
              "    .dataframe thead th {\n",
              "        text-align: right;\n",
              "    }\n",
              "</style>\n",
              "<table border=\"1\" class=\"dataframe\">\n",
              "  <thead>\n",
              "    <tr style=\"text-align: right;\">\n",
              "      <th></th>\n",
              "      <th>G1</th>\n",
              "      <th>health</th>\n",
              "      <th>absences</th>\n",
              "      <th>schoolsup_int</th>\n",
              "      <th>paid_int</th>\n",
              "      <th>act_int</th>\n",
              "      <th>reason_int</th>\n",
              "      <th>G2</th>\n",
              "      <th>Sch_int</th>\n",
              "      <th>G3</th>\n",
              "      <th>studytime</th>\n",
              "      <th>add_int</th>\n",
              "      <th>gender</th>\n",
              "      <th>failures</th>\n",
              "    </tr>\n",
              "  </thead>\n",
              "  <tbody>\n",
              "    <tr>\n",
              "      <th>0</th>\n",
              "      <td>5</td>\n",
              "      <td>3</td>\n",
              "      <td>6</td>\n",
              "      <td>0</td>\n",
              "      <td>1</td>\n",
              "      <td>1</td>\n",
              "      <td>2</td>\n",
              "      <td>6</td>\n",
              "      <td>0</td>\n",
              "      <td>6</td>\n",
              "      <td>2</td>\n",
              "      <td>0</td>\n",
              "      <td>0</td>\n",
              "      <td>0</td>\n",
              "    </tr>\n",
              "    <tr>\n",
              "      <th>1</th>\n",
              "      <td>5</td>\n",
              "      <td>3</td>\n",
              "      <td>4</td>\n",
              "      <td>1</td>\n",
              "      <td>1</td>\n",
              "      <td>1</td>\n",
              "      <td>2</td>\n",
              "      <td>5</td>\n",
              "      <td>0</td>\n",
              "      <td>6</td>\n",
              "      <td>2</td>\n",
              "      <td>0</td>\n",
              "      <td>0</td>\n",
              "      <td>0</td>\n",
              "    </tr>\n",
              "    <tr>\n",
              "      <th>2</th>\n",
              "      <td>7</td>\n",
              "      <td>3</td>\n",
              "      <td>10</td>\n",
              "      <td>0</td>\n",
              "      <td>0</td>\n",
              "      <td>1</td>\n",
              "      <td>3</td>\n",
              "      <td>8</td>\n",
              "      <td>0</td>\n",
              "      <td>10</td>\n",
              "      <td>2</td>\n",
              "      <td>0</td>\n",
              "      <td>0</td>\n",
              "      <td>3</td>\n",
              "    </tr>\n",
              "    <tr>\n",
              "      <th>3</th>\n",
              "      <td>15</td>\n",
              "      <td>5</td>\n",
              "      <td>2</td>\n",
              "      <td>1</td>\n",
              "      <td>0</td>\n",
              "      <td>0</td>\n",
              "      <td>0</td>\n",
              "      <td>14</td>\n",
              "      <td>0</td>\n",
              "      <td>15</td>\n",
              "      <td>3</td>\n",
              "      <td>0</td>\n",
              "      <td>0</td>\n",
              "      <td>0</td>\n",
              "    </tr>\n",
              "    <tr>\n",
              "      <th>4</th>\n",
              "      <td>6</td>\n",
              "      <td>5</td>\n",
              "      <td>4</td>\n",
              "      <td>1</td>\n",
              "      <td>0</td>\n",
              "      <td>1</td>\n",
              "      <td>0</td>\n",
              "      <td>10</td>\n",
              "      <td>0</td>\n",
              "      <td>10</td>\n",
              "      <td>2</td>\n",
              "      <td>0</td>\n",
              "      <td>0</td>\n",
              "      <td>0</td>\n",
              "    </tr>\n",
              "    <tr>\n",
              "      <th>...</th>\n",
              "      <td>...</td>\n",
              "      <td>...</td>\n",
              "      <td>...</td>\n",
              "      <td>...</td>\n",
              "      <td>...</td>\n",
              "      <td>...</td>\n",
              "      <td>...</td>\n",
              "      <td>...</td>\n",
              "      <td>...</td>\n",
              "      <td>...</td>\n",
              "      <td>...</td>\n",
              "      <td>...</td>\n",
              "      <td>...</td>\n",
              "      <td>...</td>\n",
              "    </tr>\n",
              "    <tr>\n",
              "      <th>390</th>\n",
              "      <td>9</td>\n",
              "      <td>4</td>\n",
              "      <td>11</td>\n",
              "      <td>1</td>\n",
              "      <td>0</td>\n",
              "      <td>1</td>\n",
              "      <td>2</td>\n",
              "      <td>9</td>\n",
              "      <td>1</td>\n",
              "      <td>9</td>\n",
              "      <td>2</td>\n",
              "      <td>0</td>\n",
              "      <td>1</td>\n",
              "      <td>2</td>\n",
              "    </tr>\n",
              "    <tr>\n",
              "      <th>391</th>\n",
              "      <td>14</td>\n",
              "      <td>2</td>\n",
              "      <td>3</td>\n",
              "      <td>1</td>\n",
              "      <td>1</td>\n",
              "      <td>1</td>\n",
              "      <td>2</td>\n",
              "      <td>16</td>\n",
              "      <td>1</td>\n",
              "      <td>16</td>\n",
              "      <td>1</td>\n",
              "      <td>0</td>\n",
              "      <td>1</td>\n",
              "      <td>0</td>\n",
              "    </tr>\n",
              "    <tr>\n",
              "      <th>392</th>\n",
              "      <td>10</td>\n",
              "      <td>3</td>\n",
              "      <td>3</td>\n",
              "      <td>1</td>\n",
              "      <td>1</td>\n",
              "      <td>1</td>\n",
              "      <td>2</td>\n",
              "      <td>8</td>\n",
              "      <td>1</td>\n",
              "      <td>7</td>\n",
              "      <td>1</td>\n",
              "      <td>1</td>\n",
              "      <td>1</td>\n",
              "      <td>3</td>\n",
              "    </tr>\n",
              "    <tr>\n",
              "      <th>393</th>\n",
              "      <td>11</td>\n",
              "      <td>5</td>\n",
              "      <td>0</td>\n",
              "      <td>1</td>\n",
              "      <td>1</td>\n",
              "      <td>1</td>\n",
              "      <td>2</td>\n",
              "      <td>12</td>\n",
              "      <td>1</td>\n",
              "      <td>10</td>\n",
              "      <td>1</td>\n",
              "      <td>1</td>\n",
              "      <td>1</td>\n",
              "      <td>0</td>\n",
              "    </tr>\n",
              "    <tr>\n",
              "      <th>394</th>\n",
              "      <td>8</td>\n",
              "      <td>5</td>\n",
              "      <td>5</td>\n",
              "      <td>1</td>\n",
              "      <td>1</td>\n",
              "      <td>1</td>\n",
              "      <td>2</td>\n",
              "      <td>9</td>\n",
              "      <td>1</td>\n",
              "      <td>9</td>\n",
              "      <td>1</td>\n",
              "      <td>0</td>\n",
              "      <td>1</td>\n",
              "      <td>0</td>\n",
              "    </tr>\n",
              "  </tbody>\n",
              "</table>\n",
              "<p>395 rows × 14 columns</p>\n",
              "</div>\n",
              "      <button class=\"colab-df-convert\" onclick=\"convertToInteractive('df-43de4062-9d71-4a13-9b6e-6b5dbc101aac')\"\n",
              "              title=\"Convert this dataframe to an interactive table.\"\n",
              "              style=\"display:none;\">\n",
              "        \n",
              "  <svg xmlns=\"http://www.w3.org/2000/svg\" height=\"24px\"viewBox=\"0 0 24 24\"\n",
              "       width=\"24px\">\n",
              "    <path d=\"M0 0h24v24H0V0z\" fill=\"none\"/>\n",
              "    <path d=\"M18.56 5.44l.94 2.06.94-2.06 2.06-.94-2.06-.94-.94-2.06-.94 2.06-2.06.94zm-11 1L8.5 8.5l.94-2.06 2.06-.94-2.06-.94L8.5 2.5l-.94 2.06-2.06.94zm10 10l.94 2.06.94-2.06 2.06-.94-2.06-.94-.94-2.06-.94 2.06-2.06.94z\"/><path d=\"M17.41 7.96l-1.37-1.37c-.4-.4-.92-.59-1.43-.59-.52 0-1.04.2-1.43.59L10.3 9.45l-7.72 7.72c-.78.78-.78 2.05 0 2.83L4 21.41c.39.39.9.59 1.41.59.51 0 1.02-.2 1.41-.59l7.78-7.78 2.81-2.81c.8-.78.8-2.07 0-2.86zM5.41 20L4 18.59l7.72-7.72 1.47 1.35L5.41 20z\"/>\n",
              "  </svg>\n",
              "      </button>\n",
              "      \n",
              "  <style>\n",
              "    .colab-df-container {\n",
              "      display:flex;\n",
              "      flex-wrap:wrap;\n",
              "      gap: 12px;\n",
              "    }\n",
              "\n",
              "    .colab-df-convert {\n",
              "      background-color: #E8F0FE;\n",
              "      border: none;\n",
              "      border-radius: 50%;\n",
              "      cursor: pointer;\n",
              "      display: none;\n",
              "      fill: #1967D2;\n",
              "      height: 32px;\n",
              "      padding: 0 0 0 0;\n",
              "      width: 32px;\n",
              "    }\n",
              "\n",
              "    .colab-df-convert:hover {\n",
              "      background-color: #E2EBFA;\n",
              "      box-shadow: 0px 1px 2px rgba(60, 64, 67, 0.3), 0px 1px 3px 1px rgba(60, 64, 67, 0.15);\n",
              "      fill: #174EA6;\n",
              "    }\n",
              "\n",
              "    [theme=dark] .colab-df-convert {\n",
              "      background-color: #3B4455;\n",
              "      fill: #D2E3FC;\n",
              "    }\n",
              "\n",
              "    [theme=dark] .colab-df-convert:hover {\n",
              "      background-color: #434B5C;\n",
              "      box-shadow: 0px 1px 3px 1px rgba(0, 0, 0, 0.15);\n",
              "      filter: drop-shadow(0px 1px 2px rgba(0, 0, 0, 0.3));\n",
              "      fill: #FFFFFF;\n",
              "    }\n",
              "  </style>\n",
              "\n",
              "      <script>\n",
              "        const buttonEl =\n",
              "          document.querySelector('#df-43de4062-9d71-4a13-9b6e-6b5dbc101aac button.colab-df-convert');\n",
              "        buttonEl.style.display =\n",
              "          google.colab.kernel.accessAllowed ? 'block' : 'none';\n",
              "\n",
              "        async function convertToInteractive(key) {\n",
              "          const element = document.querySelector('#df-43de4062-9d71-4a13-9b6e-6b5dbc101aac');\n",
              "          const dataTable =\n",
              "            await google.colab.kernel.invokeFunction('convertToInteractive',\n",
              "                                                     [key], {});\n",
              "          if (!dataTable) return;\n",
              "\n",
              "          const docLinkHtml = 'Like what you see? Visit the ' +\n",
              "            '<a target=\"_blank\" href=https://colab.research.google.com/notebooks/data_table.ipynb>data table notebook</a>'\n",
              "            + ' to learn more about interactive tables.';\n",
              "          element.innerHTML = '';\n",
              "          dataTable['output_type'] = 'display_data';\n",
              "          await google.colab.output.renderOutput(dataTable, element);\n",
              "          const docLink = document.createElement('div');\n",
              "          docLink.innerHTML = docLinkHtml;\n",
              "          element.appendChild(docLink);\n",
              "        }\n",
              "      </script>\n",
              "    </div>\n",
              "  </div>\n",
              "  "
            ]
          },
          "metadata": {},
          "execution_count": 8
        }
      ]
    },
    {
      "cell_type": "markdown",
      "source": [
        "# ***EDA***"
      ],
      "metadata": {
        "id": "h2fNCXulOcA4"
      }
    },
    {
      "cell_type": "code",
      "source": [
        "sns.pairplot(data, x_vars=['G1','G2'], y_vars='G3', size=7, aspect=0.7, kind='reg')"
      ],
      "metadata": {
        "id": "ZrspAI2W1t_j",
        "colab": {
          "base_uri": "https://localhost:8080/",
          "height": 587
        },
        "outputId": "869e06e1-3e4b-4149-ab8c-912c2af5cc1a"
      },
      "execution_count": null,
      "outputs": [
        {
          "output_type": "stream",
          "name": "stderr",
          "text": [
            "/usr/local/lib/python3.8/dist-packages/seaborn/axisgrid.py:2076: UserWarning: The `size` parameter has been renamed to `height`; please update your code.\n",
            "  warnings.warn(msg, UserWarning)\n"
          ]
        },
        {
          "output_type": "execute_result",
          "data": {
            "text/plain": [
              "<seaborn.axisgrid.PairGrid at 0x7efdb9487ca0>"
            ]
          },
          "metadata": {},
          "execution_count": 9
        },
        {
          "output_type": "display_data",
          "data": {
            "text/plain": [
              "<Figure size 705.6x504 with 2 Axes>"
            ],
            "image/png": "[encoded data removed]"
          },
          "metadata": {
            "needs_background": "light"
          }
        }
      ]
    },
    {
      "cell_type": "code",
      "source": [
        "sns.pairplot(data, y_vars=['Sch_int','gender','address','studytime','failures','schoolsup','paid','activities','internet','health','absences','G1','G2'], x_vars='G3',size=7, aspect=0.7)"
      ],
      "metadata": {
        "id": "umq5O5DdyzxO",
        "colab": {
          "base_uri": "https://localhost:8080/",
          "height": 1000
        },
        "outputId": "ddea23ec-7b60-4a54-d1ac-18c7f3363367"
      },
      "execution_count": null,
      "outputs": [
        {
          "output_type": "stream",
          "name": "stderr",
          "text": [
            "/usr/local/lib/python3.8/dist-packages/seaborn/axisgrid.py:2076: UserWarning: The `size` parameter has been renamed to `height`; please update your code.\n",
            "  warnings.warn(msg, UserWarning)\n"
          ]
        },
        {
          "output_type": "execute_result",
          "data": {
            "text/plain": [
              "<seaborn.axisgrid.PairGrid at 0x7fd39a962730>"
            ]
          },
          "metadata": {},
          "execution_count": 9
        },
        {
          "output_type": "display_data",
          "data": {
            "text/plain": [
              "<Figure size 352.8x6552 with 13 Axes>"
            ],
            "image/png": "[encoded data removed]"
          },
          "metadata": {
            "needs_background": "light"
          }
        }
      ]
    },
    {
      "cell_type": "code",
      "source": [
        "c=data.groupby(\"school\")[\"sex\"].count()\n",
        "c"
      ],
      "metadata": {
        "id": "97xLWlV5M50g",
        "colab": {
          "base_uri": "https://localhost:8080/"
        },
        "outputId": "8992644b-6120-45ec-cb5b-98cf0d270629"
      },
      "execution_count": null,
      "outputs": [
        {
          "output_type": "execute_result",
          "data": {
            "text/plain": [
              "school\n",
              "GP    349\n",
              "MS     46\n",
              "Name: sex, dtype: int64"
            ]
          },
          "metadata": {},
          "execution_count": 11
        }
      ]
    },
    {
      "cell_type": "code",
      "source": [
        "sns.barplot(x='Sch_int',y='gender',data=data,hue ='Sch_int')"
      ],
      "metadata": {
        "id": "e-n441yWN3mI",
        "colab": {
          "base_uri": "https://localhost:8080/",
          "height": 302
        },
        "outputId": "831b6b24-d6b0-43a2-8cd0-cfe8b797762a"
      },
      "execution_count": null,
      "outputs": [
        {
          "output_type": "execute_result",
          "data": {
            "text/plain": [
              "<matplotlib.axes._subplots.AxesSubplot at 0x7efdb76a4f40>"
            ]
          },
          "metadata": {},
          "execution_count": 13
        },
        {
          "output_type": "display_data",
          "data": {
            "text/plain": [
              "<Figure size 432x288 with 1 Axes>"
            ],
            "image/png": "[encoded data removed]"
          },
          "metadata": {
            "needs_background": "light"
          }
        }
      ]
    },
    {
      "cell_type": "code",
      "source": [
        "z = pd.crosstab(index=data['Sch_int'], columns=data['gender'])\n",
        "z"
      ],
      "metadata": {
        "id": "cgj16BJfWfV7",
        "colab": {
          "base_uri": "https://localhost:8080/",
          "height": 143
        },
        "outputId": "9851246f-5e1a-4852-e420-1dcd26f1bfc5"
      },
      "execution_count": null,
      "outputs": [
        {
          "output_type": "execute_result",
          "data": {
            "text/plain": [
              "gender     0    1\n",
              "Sch_int          \n",
              "0        183  166\n",
              "1         25   21"
            ],
            "text/html": [
              "\n",
              "  <div id=\"df-26143db1-8fbe-47b6-981f-0091fa8f318c\">\n",
              "    <div class=\"colab-df-container\">\n",
              "      <div>\n",
              "<style scoped>\n",
              "    .dataframe tbody tr th:only-of-type {\n",
              "        vertical-align: middle;\n",
              "    }\n",
              "\n",
              "    .dataframe tbody tr th {\n",
              "        vertical-align: top;\n",
              "    }\n",
              "\n",
              "    .dataframe thead th {\n",
              "        text-align: right;\n",
              "    }\n",
              "</style>\n",
              "<table border=\"1\" class=\"dataframe\">\n",
              "  <thead>\n",
              "    <tr style=\"text-align: right;\">\n",
              "      <th>gender</th>\n",
              "      <th>0</th>\n",
              "      <th>1</th>\n",
              "    </tr>\n",
              "    <tr>\n",
              "      <th>Sch_int</th>\n",
              "      <th></th>\n",
              "      <th></th>\n",
              "    </tr>\n",
              "  </thead>\n",
              "  <tbody>\n",
              "    <tr>\n",
              "      <th>0</th>\n",
              "      <td>183</td>\n",
              "      <td>166</td>\n",
              "    </tr>\n",
              "    <tr>\n",
              "      <th>1</th>\n",
              "      <td>25</td>\n",
              "      <td>21</td>\n",
              "    </tr>\n",
              "  </tbody>\n",
              "</table>\n",
              "</div>\n",
              "      <button class=\"colab-df-convert\" onclick=\"convertToInteractive('df-26143db1-8fbe-47b6-981f-0091fa8f318c')\"\n",
              "              title=\"Convert this dataframe to an interactive table.\"\n",
              "              style=\"display:none;\">\n",
              "        \n",
              "  <svg xmlns=\"http://www.w3.org/2000/svg\" height=\"24px\"viewBox=\"0 0 24 24\"\n",
              "       width=\"24px\">\n",
              "    <path d=\"M0 0h24v24H0V0z\" fill=\"none\"/>\n",
              "    <path d=\"M18.56 5.44l.94 2.06.94-2.06 2.06-.94-2.06-.94-.94-2.06-.94 2.06-2.06.94zm-11 1L8.5 8.5l.94-2.06 2.06-.94-2.06-.94L8.5 2.5l-.94 2.06-2.06.94zm10 10l.94 2.06.94-2.06 2.06-.94-2.06-.94-.94-2.06-.94 2.06-2.06.94z\"/><path d=\"M17.41 7.96l-1.37-1.37c-.4-.4-.92-.59-1.43-.59-.52 0-1.04.2-1.43.59L10.3 9.45l-7.72 7.72c-.78.78-.78 2.05 0 2.83L4 21.41c.39.39.9.59 1.41.59.51 0 1.02-.2 1.41-.59l7.78-7.78 2.81-2.81c.8-.78.8-2.07 0-2.86zM5.41 20L4 18.59l7.72-7.72 1.47 1.35L5.41 20z\"/>\n",
              "  </svg>\n",
              "      </button>\n",
              "      \n",
              "  <style>\n",
              "    .colab-df-container {\n",
              "      display:flex;\n",
              "      flex-wrap:wrap;\n",
              "      gap: 12px;\n",
              "    }\n",
              "\n",
              "    .colab-df-convert {\n",
              "      background-color: #E8F0FE;\n",
              "      border: none;\n",
              "      border-radius: 50%;\n",
              "      cursor: pointer;\n",
              "      display: none;\n",
              "      fill: #1967D2;\n",
              "      height: 32px;\n",
              "      padding: 0 0 0 0;\n",
              "      width: 32px;\n",
              "    }\n",
              "\n",
              "    .colab-df-convert:hover {\n",
              "      background-color: #E2EBFA;\n",
              "      box-shadow: 0px 1px 2px rgba(60, 64, 67, 0.3), 0px 1px 3px 1px rgba(60, 64, 67, 0.15);\n",
              "      fill: #174EA6;\n",
              "    }\n",
              "\n",
              "    [theme=dark] .colab-df-convert {\n",
              "      background-color: #3B4455;\n",
              "      fill: #D2E3FC;\n",
              "    }\n",
              "\n",
              "    [theme=dark] .colab-df-convert:hover {\n",
              "      background-color: #434B5C;\n",
              "      box-shadow: 0px 1px 3px 1px rgba(0, 0, 0, 0.15);\n",
              "      filter: drop-shadow(0px 1px 2px rgba(0, 0, 0, 0.3));\n",
              "      fill: #FFFFFF;\n",
              "    }\n",
              "  </style>\n",
              "\n",
              "      <script>\n",
              "        const buttonEl =\n",
              "          document.querySelector('#df-26143db1-8fbe-47b6-981f-0091fa8f318c button.colab-df-convert');\n",
              "        buttonEl.style.display =\n",
              "          google.colab.kernel.accessAllowed ? 'block' : 'none';\n",
              "\n",
              "        async function convertToInteractive(key) {\n",
              "          const element = document.querySelector('#df-26143db1-8fbe-47b6-981f-0091fa8f318c');\n",
              "          const dataTable =\n",
              "            await google.colab.kernel.invokeFunction('convertToInteractive',\n",
              "                                                     [key], {});\n",
              "          if (!dataTable) return;\n",
              "\n",
              "          const docLinkHtml = 'Like what you see? Visit the ' +\n",
              "            '<a target=\"_blank\" href=https://colab.research.google.com/notebooks/data_table.ipynb>data table notebook</a>'\n",
              "            + ' to learn more about interactive tables.';\n",
              "          element.innerHTML = '';\n",
              "          dataTable['output_type'] = 'display_data';\n",
              "          await google.colab.output.renderOutput(dataTable, element);\n",
              "          const docLink = document.createElement('div');\n",
              "          docLink.innerHTML = docLinkHtml;\n",
              "          element.appendChild(docLink);\n",
              "        }\n",
              "      </script>\n",
              "    </div>\n",
              "  </div>\n",
              "  "
            ]
          },
          "metadata": {},
          "execution_count": 12
        }
      ]
    },
    {
      "cell_type": "code",
      "source": [
        "sns.barplot(x=c.index,y=c.values)"
      ],
      "metadata": {
        "id": "WfQUKmeXWj0_",
        "colab": {
          "base_uri": "https://localhost:8080/",
          "height": 302
        },
        "outputId": "9924f120-9563-4c7e-b740-46d95d9a260b"
      },
      "execution_count": null,
      "outputs": [
        {
          "output_type": "execute_result",
          "data": {
            "text/plain": [
              "<matplotlib.axes._subplots.AxesSubplot at 0x7f33ab129dd0>"
            ]
          },
          "metadata": {},
          "execution_count": 13
        },
        {
          "output_type": "display_data",
          "data": {
            "text/plain": [
              "<Figure size 432x288 with 1 Axes>"
            ],
            "image/png": "[encoded data removed]"
          },
          "metadata": {
            "needs_background": "light"
          }
        }
      ]
    },
    {
      "cell_type": "code",
      "source": [
        "d=data.groupby(\"sex\")[\"sex\"].count()\n",
        "d"
      ],
      "metadata": {
        "id": "NSAplKy9N7e3",
        "colab": {
          "base_uri": "https://localhost:8080/"
        },
        "outputId": "44a3d1a1-874f-441a-ec1f-662b292cac23"
      },
      "execution_count": null,
      "outputs": [
        {
          "output_type": "execute_result",
          "data": {
            "text/plain": [
              "sex\n",
              "F    208\n",
              "M    187\n",
              "Name: sex, dtype: int64"
            ]
          },
          "metadata": {},
          "execution_count": 14
        }
      ]
    },
    {
      "cell_type": "code",
      "source": [
        "plt.pie(d,labels=d.index,autopct=\"%.2f%%\", explode=[0,0]);\n",
        "plt.show()"
      ],
      "metadata": {
        "id": "Q4HLjA-oORlm",
        "colab": {
          "base_uri": "https://localhost:8080/",
          "height": 248
        },
        "outputId": "d7bd4354-2b41-4a7e-e54c-a42f739af41f"
      },
      "execution_count": null,
      "outputs": [
        {
          "output_type": "display_data",
          "data": {
            "text/plain": [
              "<Figure size 432x288 with 1 Axes>"
            ],
            "image/png": "[encoded data removed]"
          },
          "metadata": {}
        }
      ]
    },
    {
      "cell_type": "code",
      "source": [
        "sns.lineplot('paid','failures', data=data, hue='school');"
      ],
      "metadata": {
        "id": "A70ebU11Odut",
        "colab": {
          "base_uri": "https://localhost:8080/",
          "height": 342
        },
        "outputId": "1b0ff3d5-b74c-4052-98a9-f135a45acf7c"
      },
      "execution_count": null,
      "outputs": [
        {
          "output_type": "stream",
          "name": "stderr",
          "text": [
            "/usr/local/lib/python3.7/dist-packages/seaborn/_decorators.py:43: FutureWarning: Pass the following variables as keyword args: x, y. From version 0.12, the only valid positional argument will be `data`, and passing other arguments without an explicit keyword will result in an error or misinterpretation.\n",
            "  FutureWarning\n"
          ]
        },
        {
          "output_type": "display_data",
          "data": {
            "text/plain": [
              "<Figure size 432x288 with 1 Axes>"
            ],
            "image/png": "[encoded data removed]"
          },
          "metadata": {
            "needs_background": "light"
          }
        }
      ]
    },
    {
      "cell_type": "code",
      "source": [
        "sns.lineplot('paid','failures', data=data, hue='sex');"
      ],
      "metadata": {
        "id": "0n-dNhl4Tee7",
        "colab": {
          "base_uri": "https://localhost:8080/",
          "height": 340
        },
        "outputId": "f0e2167d-3cbc-48fc-d19d-ad6ac0e2c866"
      },
      "execution_count": null,
      "outputs": [
        {
          "output_type": "stream",
          "name": "stderr",
          "text": [
            "/usr/local/lib/python3.7/dist-packages/seaborn/_decorators.py:43: FutureWarning: Pass the following variables as keyword args: x, y. From version 0.12, the only valid positional argument will be `data`, and passing other arguments without an explicit keyword will result in an error or misinterpretation.\n",
            "  FutureWarning\n"
          ]
        },
        {
          "output_type": "display_data",
          "data": {
            "text/plain": [
              "<Figure size 432x288 with 1 Axes>"
            ],
            "image/png": "[encoded data removed]"
          },
          "metadata": {
            "needs_background": "light"
          }
        }
      ]
    },
    {
      "cell_type": "code",
      "source": [
        "sns.barplot(x=\"gender\",y = \"G3\" , data=data)"
      ],
      "metadata": {
        "id": "YhWsySenShiZ",
        "colab": {
          "base_uri": "https://localhost:8080/",
          "height": 304
        },
        "outputId": "94dc9750-dd1d-4457-b586-02da3440cce6"
      },
      "execution_count": null,
      "outputs": [
        {
          "output_type": "execute_result",
          "data": {
            "text/plain": [
              "<matplotlib.axes._subplots.AxesSubplot at 0x7f33ab0aee50>"
            ]
          },
          "metadata": {},
          "execution_count": 18
        },
        {
          "output_type": "display_data",
          "data": {
            "text/plain": [
              "<Figure size 432x288 with 1 Axes>"
            ],
            "image/png": "[encoded data removed]"
          },
          "metadata": {
            "needs_background": "light"
          }
        }
      ]
    },
    {
      "cell_type": "code",
      "source": [
        "sns.distplot(data.G3)"
      ],
      "metadata": {
        "id": "qsqS6GTDJRFd",
        "colab": {
          "base_uri": "https://localhost:8080/",
          "height": 357
        },
        "outputId": "02bc5568-090a-4c51-9a0f-5d168dedd8ee"
      },
      "execution_count": null,
      "outputs": [
        {
          "output_type": "stream",
          "name": "stderr",
          "text": [
            "/usr/local/lib/python3.7/dist-packages/seaborn/distributions.py:2619: FutureWarning: `distplot` is a deprecated function and will be removed in a future version. Please adapt your code to use either `displot` (a figure-level function with similar flexibility) or `histplot` (an axes-level function for histograms).\n",
            "  warnings.warn(msg, FutureWarning)\n"
          ]
        },
        {
          "output_type": "execute_result",
          "data": {
            "text/plain": [
              "<matplotlib.axes._subplots.AxesSubplot at 0x7f33aaea7e50>"
            ]
          },
          "metadata": {},
          "execution_count": 19
        },
        {
          "output_type": "display_data",
          "data": {
            "text/plain": [
              "<Figure size 432x288 with 1 Axes>"
            ],
            "image/png": "[encoded data removed]"
          },
          "metadata": {
            "needs_background": "light"
          }
        }
      ]
    },
    {
      "cell_type": "code",
      "source": [
        "sns.scatterplot(x=data['G1'],y=data['G2'],hue=data['G3'])"
      ],
      "metadata": {
        "id": "4BgTul9SwLJS",
        "colab": {
          "base_uri": "https://localhost:8080/",
          "height": 302
        },
        "outputId": "03e69224-f833-4bc2-8433-c856afdfd365"
      },
      "execution_count": null,
      "outputs": [
        {
          "output_type": "execute_result",
          "data": {
            "text/plain": [
              "<matplotlib.axes._subplots.AxesSubplot at 0x7f33aadd3890>"
            ]
          },
          "metadata": {},
          "execution_count": 20
        },
        {
          "output_type": "display_data",
          "data": {
            "text/plain": [
              "<Figure size 432x288 with 1 Axes>"
            ],
            "image/png": "[encoded data removed]"
          },
          "metadata": {
            "needs_background": "light"
          }
        }
      ]
    },
    {
      "cell_type": "code",
      "source": [
        "sns.barplot(x=\"school\",y = \"G3\" , data=data, hue='sex')"
      ],
      "metadata": {
        "id": "xFFJWv7kImWC",
        "colab": {
          "base_uri": "https://localhost:8080/",
          "height": 302
        },
        "outputId": "e3a4cc1a-4473-46d9-8821-37b028cd59a3"
      },
      "execution_count": null,
      "outputs": [
        {
          "output_type": "execute_result",
          "data": {
            "text/plain": [
              "<matplotlib.axes._subplots.AxesSubplot at 0x7f33aadd3d10>"
            ]
          },
          "metadata": {},
          "execution_count": 21
        },
        {
          "output_type": "display_data",
          "data": {
            "text/plain": [
              "<Figure size 432x288 with 1 Axes>"
            ],
            "image/png": "[encoded data removed]"
          },
          "metadata": {
            "needs_background": "light"
          }
        }
      ]
    },
    {
      "cell_type": "code",
      "source": [
        "sns.lineplot('school','failures', data=data, hue='sex');"
      ],
      "metadata": {
        "id": "f0DC2TJ_wUAC",
        "colab": {
          "base_uri": "https://localhost:8080/",
          "height": 340
        },
        "outputId": "8fd02f2f-613d-4df8-81f6-12b74baa16e8"
      },
      "execution_count": null,
      "outputs": [
        {
          "output_type": "stream",
          "name": "stderr",
          "text": [
            "/usr/local/lib/python3.7/dist-packages/seaborn/_decorators.py:43: FutureWarning: Pass the following variables as keyword args: x, y. From version 0.12, the only valid positional argument will be `data`, and passing other arguments without an explicit keyword will result in an error or misinterpretation.\n",
            "  FutureWarning\n"
          ]
        },
        {
          "output_type": "display_data",
          "data": {
            "text/plain": [
              "<Figure size 432x288 with 1 Axes>"
            ],
            "image/png": "[encoded data removed]"
          },
          "metadata": {
            "needs_background": "light"
          }
        }
      ]
    },
    {
      "cell_type": "code",
      "source": [
        "sns.barplot(x=\"gender\",y = \"studytime\" , data=data, hue='failures')"
      ],
      "metadata": {
        "id": "2uH0Hc3XwW2p",
        "colab": {
          "base_uri": "https://localhost:8080/",
          "height": 302
        },
        "outputId": "18e17e92-2f21-46b7-ea87-77223a55708c"
      },
      "execution_count": null,
      "outputs": [
        {
          "output_type": "execute_result",
          "data": {
            "text/plain": [
              "<matplotlib.axes._subplots.AxesSubplot at 0x7f33aacd2050>"
            ]
          },
          "metadata": {},
          "execution_count": 23
        },
        {
          "output_type": "display_data",
          "data": {
            "text/plain": [
              "<Figure size 432x288 with 1 Axes>"
            ],
            "image/png": "[encoded data removed]"
          },
          "metadata": {
            "needs_background": "light"
          }
        }
      ]
    },
    {
      "cell_type": "code",
      "source": [
        "sns.barplot(x=\"studytime\",y = \"Dalc\" , data=data,hue=\"Walc\")"
      ],
      "metadata": {
        "id": "AWxwpy3xm6wc",
        "colab": {
          "base_uri": "https://localhost:8080/",
          "height": 302
        },
        "outputId": "45abd9f8-3063-48f0-dc84-f3b261470702"
      },
      "execution_count": null,
      "outputs": [
        {
          "output_type": "execute_result",
          "data": {
            "text/plain": [
              "<matplotlib.axes._subplots.AxesSubplot at 0x7f33aabe0a10>"
            ]
          },
          "metadata": {},
          "execution_count": 24
        },
        {
          "output_type": "display_data",
          "data": {
            "text/plain": [
              "<Figure size 432x288 with 1 Axes>"
            ],
            "image/png": "[encoded data removed]"
          },
          "metadata": {
            "needs_background": "light"
          }
        }
      ]
    },
    {
      "cell_type": "code",
      "source": [
        "sns.barplot(x=\"school\",y = \"G3\" , data=data,hue='gender')\n"
      ],
      "metadata": {
        "id": "pvkKd8RGwbNJ",
        "colab": {
          "base_uri": "https://localhost:8080/",
          "height": 302
        },
        "outputId": "612188a8-4cda-40c5-e875-2c17b8a2534d"
      },
      "execution_count": null,
      "outputs": [
        {
          "output_type": "execute_result",
          "data": {
            "text/plain": [
              "<matplotlib.axes._subplots.AxesSubplot at 0x7f33aac86750>"
            ]
          },
          "metadata": {},
          "execution_count": 25
        },
        {
          "output_type": "display_data",
          "data": {
            "text/plain": [
              "<Figure size 432x288 with 1 Axes>"
            ],
            "image/png": "[encoded data removed]"
          },
          "metadata": {
            "needs_background": "light"
          }
        }
      ]
    },
    {
      "cell_type": "code",
      "source": [
        "sns.kdeplot(data.G3, shade=True)"
      ],
      "metadata": {
        "id": "ArYB3DwOwt9u",
        "colab": {
          "base_uri": "https://localhost:8080/",
          "height": 302
        },
        "outputId": "8e162f0c-5bf5-4745-dff7-1f4784363458"
      },
      "execution_count": null,
      "outputs": [
        {
          "output_type": "execute_result",
          "data": {
            "text/plain": [
              "<matplotlib.axes._subplots.AxesSubplot at 0x7f33aaaa78d0>"
            ]
          },
          "metadata": {},
          "execution_count": 26
        },
        {
          "output_type": "display_data",
          "data": {
            "text/plain": [
              "<Figure size 432x288 with 1 Axes>"
            ],
            "image/png": "[encoded data removed]"
          },
          "metadata": {
            "needs_background": "light"
          }
        }
      ]
    },
    {
      "cell_type": "code",
      "source": [
        "np.mean(data.G1)"
      ],
      "metadata": {
        "id": "6KEHm5kaJlyC",
        "colab": {
          "base_uri": "https://localhost:8080/"
        },
        "outputId": "2484a593-d473-459f-906b-a71ebe353725"
      },
      "execution_count": null,
      "outputs": [
        {
          "output_type": "execute_result",
          "data": {
            "text/plain": [
              "10.90886075949367"
            ]
          },
          "metadata": {},
          "execution_count": 27
        }
      ]
    },
    {
      "cell_type": "code",
      "source": [
        "np.mean(data.G2)"
      ],
      "metadata": {
        "id": "KxlhRWSvJnl6",
        "colab": {
          "base_uri": "https://localhost:8080/"
        },
        "outputId": "54ceca31-8835-4c67-ba4c-08c4137f2599"
      },
      "execution_count": null,
      "outputs": [
        {
          "output_type": "execute_result",
          "data": {
            "text/plain": [
              "10.713924050632912"
            ]
          },
          "metadata": {},
          "execution_count": 28
        }
      ]
    },
    {
      "cell_type": "code",
      "source": [
        "np.mean(data.G3)"
      ],
      "metadata": {
        "id": "jV5ZHMALJoTb",
        "colab": {
          "base_uri": "https://localhost:8080/"
        },
        "outputId": "6b283271-ee04-4785-acec-c796955eabeb"
      },
      "execution_count": null,
      "outputs": [
        {
          "output_type": "execute_result",
          "data": {
            "text/plain": [
              "10.415189873417722"
            ]
          },
          "metadata": {},
          "execution_count": 29
        }
      ]
    },
    {
      "cell_type": "code",
      "source": [
        "import matplotlib.pyplot as plt "
      ],
      "metadata": {
        "id": "Mw0siIHr-TEi"
      },
      "execution_count": null,
      "outputs": []
    },
    {
      "cell_type": "code",
      "source": [
        "sns.barplot(y = data.G1)"
      ],
      "metadata": {
        "id": "Zs1tln4JJ0PI",
        "colab": {
          "base_uri": "https://localhost:8080/",
          "height": 271
        },
        "outputId": "06acb2ad-84d7-41aa-b4aa-65e7b5b847a7"
      },
      "execution_count": null,
      "outputs": [
        {
          "output_type": "execute_result",
          "data": {
            "text/plain": [
              "<matplotlib.axes._subplots.AxesSubplot at 0x7efdb4548d90>"
            ]
          },
          "metadata": {},
          "execution_count": 28
        },
        {
          "output_type": "display_data",
          "data": {
            "text/plain": [
              "<Figure size 432x288 with 1 Axes>"
            ],
            "image/png": "[encoded data removed]"
          },
          "metadata": {
            "needs_background": "light"
          }
        }
      ]
    },
    {
      "cell_type": "code",
      "source": [
        "sns.barplot(y = data.G2)"
      ],
      "metadata": {
        "id": "75eFT90-Lq4W",
        "colab": {
          "base_uri": "https://localhost:8080/",
          "height": 254
        },
        "outputId": "e76dcbd2-1f7d-4957-9a8c-2e4d7f382df5"
      },
      "execution_count": null,
      "outputs": [
        {
          "output_type": "display_data",
          "data": {
            "text/plain": [
              "<Figure size 432x288 with 1 Axes>"
            ],
            "image/png": "[encoded data removed]"
          },
          "metadata": {
            "needs_background": "light"
          }
        }
      ]
    },
    {
      "cell_type": "code",
      "source": [
        "sns.barplot(data.G3)"
      ],
      "metadata": {
        "id": "EarHg3NGLu7g",
        "colab": {
          "base_uri": "https://localhost:8080/",
          "height": 357
        },
        "outputId": "0b1e34c2-9e67-436e-df10-b92fd015de76"
      },
      "execution_count": null,
      "outputs": [
        {
          "output_type": "stream",
          "name": "stderr",
          "text": [
            "/usr/local/lib/python3.7/dist-packages/seaborn/_decorators.py:43: FutureWarning: Pass the following variable as a keyword arg: x. From version 0.12, the only valid positional argument will be `data`, and passing other arguments without an explicit keyword will result in an error or misinterpretation.\n",
            "  FutureWarning\n"
          ]
        },
        {
          "output_type": "execute_result",
          "data": {
            "text/plain": [
              "<matplotlib.axes._subplots.AxesSubplot at 0x7f33aab50e10>"
            ]
          },
          "metadata": {},
          "execution_count": 32
        },
        {
          "output_type": "display_data",
          "data": {
            "text/plain": [
              "<Figure size 432x288 with 1 Axes>"
            ],
            "image/png": "[encoded data removed]"
          },
          "metadata": {
            "needs_background": "light"
          }
        }
      ]
    },
    {
      "cell_type": "markdown",
      "source": [
        "# ***PREDICTIVE ANALYSIS***"
      ],
      "metadata": {
        "id": "Dt3EG6YIE2Xr"
      }
    },
    {
      "cell_type": "markdown",
      "source": [
        "## ***LINEAR REGRESSION***"
      ],
      "metadata": {
        "id": "qYLrW2WbM5mp"
      }
    },
    {
      "cell_type": "code",
      "source": [
        "lm3 = smf.ols(formula='G3 ~ Sch_int+gender+add_int+reason_int+studytime+failures+schoolsup_int+paid_int+act_int+health+absences+G1+G2', data=data).fit()\n",
        "lm3.params "
      ],
      "metadata": {
        "id": "ClRokmsWPDje",
        "colab": {
          "base_uri": "https://localhost:8080/"
        },
        "outputId": "fe810ccf-026c-4353-f9e4-79b37af57368"
      },
      "execution_count": null,
      "outputs": [
        {
          "output_type": "execute_result",
          "data": {
            "text/plain": [
              "Intercept       -1.892788\n",
              "Sch_int          0.065265\n",
              "gender           0.248612\n",
              "add_int          0.027831\n",
              "reason_int       0.123367\n",
              "studytime       -0.120276\n",
              "failures        -0.269688\n",
              "schoolsup_int   -0.605915\n",
              "paid_int        -0.154515\n",
              "act_int          0.324360\n",
              "health           0.088296\n",
              "absences         0.039895\n",
              "G1               0.176712\n",
              "G2               0.964827\n",
              "dtype: float64"
            ]
          },
          "metadata": {},
          "execution_count": 12
        }
      ]
    },
    {
      "cell_type": "code",
      "source": [
        "lm3.summary()"
      ],
      "metadata": {
        "id": "QE7vi4t8PGUA",
        "colab": {
          "base_uri": "https://localhost:8080/",
          "height": 708
        },
        "outputId": "ca30c9dd-5a2b-4e06-b57f-06cd75cd5e4e"
      },
      "execution_count": null,
      "outputs": [
        {
          "output_type": "execute_result",
          "data": {
            "text/plain": [
              "<class 'statsmodels.iolib.summary.Summary'>\n",
              "\"\"\"\n",
              "                            OLS Regression Results                            \n",
              "==============================================================================\n",
              "Dep. Variable:                     G3   R-squared:                       0.833\n",
              "Model:                            OLS   Adj. R-squared:                  0.828\n",
              "Method:                 Least Squares   F-statistic:                     146.6\n",
              "Date:                Sun, 30 Oct 2022   Prob (F-statistic):          2.77e-139\n",
              "Time:                        04:55:56   Log-Likelihood:                -807.29\n",
              "No. Observations:                 395   AIC:                             1643.\n",
              "Df Residuals:                     381   BIC:                             1698.\n",
              "Df Model:                          13                                         \n",
              "Covariance Type:            nonrobust                                         \n",
              "=================================================================================\n",
              "                    coef    std err          t      P>|t|      [0.025      0.975]\n",
              "---------------------------------------------------------------------------------\n",
              "Intercept        -1.8928      0.598     -3.167      0.002      -3.068      -0.718\n",
              "Sch_int           0.0653      0.322      0.203      0.839      -0.568       0.698\n",
              "gender            0.2486      0.211      1.179      0.239      -0.166       0.663\n",
              "add_int           0.0278      0.246      0.113      0.910      -0.455       0.511\n",
              "reason_int        0.1234      0.102      1.207      0.228      -0.078       0.324\n",
              "studytime        -0.1203      0.126     -0.951      0.342      -0.369       0.128\n",
              "failures         -0.2697      0.143     -1.890      0.059      -0.550       0.011\n",
              "schoolsup_int    -0.6059      0.302     -2.009      0.045      -1.199      -0.013\n",
              "paid_int         -0.1545      0.201     -0.768      0.443      -0.550       0.241\n",
              "act_int           0.3244      0.196      1.652      0.099      -0.062       0.710\n",
              "health            0.0883      0.071      1.252      0.211      -0.050       0.227\n",
              "absences          0.0399      0.012      3.251      0.001       0.016       0.064\n",
              "G1                0.1767      0.058      3.057      0.002       0.063       0.290\n",
              "G2                0.9648      0.050     19.206      0.000       0.866       1.064\n",
              "==============================================================================\n",
              "Omnibus:                      202.797   Durbin-Watson:                   1.880\n",
              "Prob(Omnibus):                  0.000   Jarque-Bera (JB):             1098.945\n",
              "Skew:                          -2.212   Prob(JB):                    2.33e-239\n",
              "Kurtosis:                       9.871   Cond. No.                         114.\n",
              "==============================================================================\n",
              "\n",
              "Notes:\n",
              "[1] Standard Errors assume that the covariance matrix of the errors is correctly specified.\n",
              "\"\"\""
            ],
            "text/html": [
              "<table class=\"simpletable\">\n",
              "<caption>OLS Regression Results</caption>\n",
              "<tr>\n",
              "  <th>Dep. Variable:</th>           <td>G3</td>        <th>  R-squared:         </th> <td>   0.833</td> \n",
              "</tr>\n",
              "<tr>\n",
              "  <th>Model:</th>                   <td>OLS</td>       <th>  Adj. R-squared:    </th> <td>   0.828</td> \n",
              "</tr>\n",
              "<tr>\n",
              "  <th>Method:</th>             <td>Least Squares</td>  <th>  F-statistic:       </th> <td>   146.6</td> \n",
              "</tr>\n",
              "<tr>\n",
              "  <th>Date:</th>             <td>Sun, 30 Oct 2022</td> <th>  Prob (F-statistic):</th> <td>2.77e-139</td>\n",
              "</tr>\n",
              "<tr>\n",
              "  <th>Time:</th>                 <td>04:55:56</td>     <th>  Log-Likelihood:    </th> <td> -807.29</td> \n",
              "</tr>\n",
              "<tr>\n",
              "  <th>No. Observations:</th>      <td>   395</td>      <th>  AIC:               </th> <td>   1643.</td> \n",
              "</tr>\n",
              "<tr>\n",
              "  <th>Df Residuals:</th>          <td>   381</td>      <th>  BIC:               </th> <td>   1698.</td> \n",
              "</tr>\n",
              "<tr>\n",
              "  <th>Df Model:</th>              <td>    13</td>      <th>                     </th>     <td> </td>    \n",
              "</tr>\n",
              "<tr>\n",
              "  <th>Covariance Type:</th>      <td>nonrobust</td>    <th>                     </th>     <td> </td>    \n",
              "</tr>\n",
              "</table>\n",
              "<table class=\"simpletable\">\n",
              "<tr>\n",
              "        <td></td>           <th>coef</th>     <th>std err</th>      <th>t</th>      <th>P>|t|</th>  <th>[0.025</th>    <th>0.975]</th>  \n",
              "</tr>\n",
              "<tr>\n",
              "  <th>Intercept</th>     <td>   -1.8928</td> <td>    0.598</td> <td>   -3.167</td> <td> 0.002</td> <td>   -3.068</td> <td>   -0.718</td>\n",
              "</tr>\n",
              "<tr>\n",
              "  <th>Sch_int</th>       <td>    0.0653</td> <td>    0.322</td> <td>    0.203</td> <td> 0.839</td> <td>   -0.568</td> <td>    0.698</td>\n",
              "</tr>\n",
              "<tr>\n",
              "  <th>gender</th>        <td>    0.2486</td> <td>    0.211</td> <td>    1.179</td> <td> 0.239</td> <td>   -0.166</td> <td>    0.663</td>\n",
              "</tr>\n",
              "<tr>\n",
              "  <th>add_int</th>       <td>    0.0278</td> <td>    0.246</td> <td>    0.113</td> <td> 0.910</td> <td>   -0.455</td> <td>    0.511</td>\n",
              "</tr>\n",
              "<tr>\n",
              "  <th>reason_int</th>    <td>    0.1234</td> <td>    0.102</td> <td>    1.207</td> <td> 0.228</td> <td>   -0.078</td> <td>    0.324</td>\n",
              "</tr>\n",
              "<tr>\n",
              "  <th>studytime</th>     <td>   -0.1203</td> <td>    0.126</td> <td>   -0.951</td> <td> 0.342</td> <td>   -0.369</td> <td>    0.128</td>\n",
              "</tr>\n",
              "<tr>\n",
              "  <th>failures</th>      <td>   -0.2697</td> <td>    0.143</td> <td>   -1.890</td> <td> 0.059</td> <td>   -0.550</td> <td>    0.011</td>\n",
              "</tr>\n",
              "<tr>\n",
              "  <th>schoolsup_int</th> <td>   -0.6059</td> <td>    0.302</td> <td>   -2.009</td> <td> 0.045</td> <td>   -1.199</td> <td>   -0.013</td>\n",
              "</tr>\n",
              "<tr>\n",
              "  <th>paid_int</th>      <td>   -0.1545</td> <td>    0.201</td> <td>   -0.768</td> <td> 0.443</td> <td>   -0.550</td> <td>    0.241</td>\n",
              "</tr>\n",
              "<tr>\n",
              "  <th>act_int</th>       <td>    0.3244</td> <td>    0.196</td> <td>    1.652</td> <td> 0.099</td> <td>   -0.062</td> <td>    0.710</td>\n",
              "</tr>\n",
              "<tr>\n",
              "  <th>health</th>        <td>    0.0883</td> <td>    0.071</td> <td>    1.252</td> <td> 0.211</td> <td>   -0.050</td> <td>    0.227</td>\n",
              "</tr>\n",
              "<tr>\n",
              "  <th>absences</th>      <td>    0.0399</td> <td>    0.012</td> <td>    3.251</td> <td> 0.001</td> <td>    0.016</td> <td>    0.064</td>\n",
              "</tr>\n",
              "<tr>\n",
              "  <th>G1</th>            <td>    0.1767</td> <td>    0.058</td> <td>    3.057</td> <td> 0.002</td> <td>    0.063</td> <td>    0.290</td>\n",
              "</tr>\n",
              "<tr>\n",
              "  <th>G2</th>            <td>    0.9648</td> <td>    0.050</td> <td>   19.206</td> <td> 0.000</td> <td>    0.866</td> <td>    1.064</td>\n",
              "</tr>\n",
              "</table>\n",
              "<table class=\"simpletable\">\n",
              "<tr>\n",
              "  <th>Omnibus:</th>       <td>202.797</td> <th>  Durbin-Watson:     </th> <td>   1.880</td> \n",
              "</tr>\n",
              "<tr>\n",
              "  <th>Prob(Omnibus):</th> <td> 0.000</td>  <th>  Jarque-Bera (JB):  </th> <td>1098.945</td> \n",
              "</tr>\n",
              "<tr>\n",
              "  <th>Skew:</th>          <td>-2.212</td>  <th>  Prob(JB):          </th> <td>2.33e-239</td>\n",
              "</tr>\n",
              "<tr>\n",
              "  <th>Kurtosis:</th>      <td> 9.871</td>  <th>  Cond. No.          </th> <td>    114.</td> \n",
              "</tr>\n",
              "</table><br/><br/>Notes:<br/>[1] Standard Errors assume that the covariance matrix of the errors is correctly specified."
            ]
          },
          "metadata": {},
          "execution_count": 34
        }
      ]
    },
    {
      "cell_type": "markdown",
      "source": [
        "**Fitting the linear regression with considering G1 and G2 variables**"
      ],
      "metadata": {
        "id": "eMkQQaE4IkXH"
      }
    },
    {
      "cell_type": "code",
      "source": [
        "X = data[[\"Sch_int\",\"gender\",\"add_int\",\"reason_int\",\"studytime\",\"failures\",\"schoolsup_int\",\"paid_int\",\"act_int\",\"health\",\"absences\",\"G1\",\"G2\"]]\n",
        "y = data.G3\n",
        "X_train, X_test, y_train, y_test = train_test_split(X, y, test_size=0.3)\n",
        "lm3 = LinearRegression()\n",
        "lm3.fit(X_train, y_train)\n",
        "y_pred = lm3.predict(X_test)\n",
        "print(np.sqrt(metrics.mean_squared_error(y_test, y_pred)))"
      ],
      "metadata": {
        "id": "qrT6CfJTVle1",
        "colab": {
          "base_uri": "https://localhost:8080/"
        },
        "outputId": "2e601370-33d7-4eed-a517-bd586b30a6f1"
      },
      "execution_count": null,
      "outputs": [
        {
          "output_type": "stream",
          "name": "stdout",
          "text": [
            "1.6384051763809078\n"
          ]
        }
      ]
    },
    {
      "cell_type": "code",
      "source": [
        "mae = metrics.mean_absolute_error(y_test, y_pred)  ##MAE (Mean absolute error)\n",
        "mse = metrics.mean_squared_error(y_test, y_pred)   ##MSE (Mean Squared Error) \n",
        "rmse = np.sqrt(mse) # or mse**(0.5)                ##RMSE (Root Mean Squared Error)\n",
        "r2 = metrics.r2_score(y_test, y_pred)              ##R-squared (Coefficient of determination)\n",
        "print(mae)\n",
        "print(mse)\n",
        "print(rmse)\n",
        "print(r2)\n",
        "print(100-(1.96*rmse))"
      ],
      "metadata": {
        "id": "3xewWjoaPAvA",
        "colab": {
          "base_uri": "https://localhost:8080/"
        },
        "outputId": "a3c00195-f51e-4716-db7d-b78d31ddcee7"
      },
      "execution_count": null,
      "outputs": [
        {
          "output_type": "stream",
          "name": "stdout",
          "text": [
            "1.1789113518185959\n",
            "2.6843715219917534\n",
            "1.6384051763809078\n",
            "0.8691116321440738\n",
            "96.78872585429342\n"
          ]
        }
      ]
    },
    {
      "cell_type": "markdown",
      "source": [
        "***Fitting the linear regression without considering G1 and G2 variables***"
      ],
      "metadata": {
        "id": "xZAfWWlyITNP"
      }
    },
    {
      "cell_type": "code",
      "source": [
        "X = data[[\"Sch_int\",\"gender\",\"add_int\",\"reason_int\",\"studytime\",\"failures\",\"schoolsup_int\",\"paid_int\",\"act_int\",\"health\",\"absences\"]]\n",
        "y = data.G3\n",
        "X_train, X_test, y_train, y_test = train_test_split(X, y, test_size=0.3)\n",
        "lm3 = LinearRegression()\n",
        "lm3.fit(X_train, y_train)\n",
        "y_pred = lm3.predict(X_test)\n",
        "print(np.sqrt(metrics.mean_squared_error(y_test, y_pred)))"
      ],
      "metadata": {
        "id": "p5weS7XkJZVS",
        "colab": {
          "base_uri": "https://localhost:8080/"
        },
        "outputId": "6fcbc611-2d3d-4589-a9a8-d89a2bee0931"
      },
      "execution_count": null,
      "outputs": [
        {
          "output_type": "stream",
          "name": "stdout",
          "text": [
            "4.067620021663556\n"
          ]
        }
      ]
    },
    {
      "cell_type": "code",
      "source": [
        "mae = metrics.mean_absolute_error(y_test, y_pred)  ##MAE (Mean absolute error)\n",
        "mse = metrics.mean_squared_error(y_test, y_pred)   ##MSE (Mean Squared Error) \n",
        "rmse = np.sqrt(mse) # or mse**(0.5)                ##RMSE (Root Mean Squared Error)\n",
        "r2 = metrics.r2_score(y_test, y_pred)              ##R-squared (Coefficient of determination)\n",
        "print(mae)\n",
        "print(mse)\n",
        "print(rmse)\n",
        "print(r2)\n",
        "print(100-(1.96*rmse))"
      ],
      "metadata": {
        "id": "lnGjxSQWq7CV",
        "colab": {
          "base_uri": "https://localhost:8080/"
        },
        "outputId": "cc26431a-135c-4a08-bbed-7a12de694dfb"
      },
      "execution_count": null,
      "outputs": [
        {
          "output_type": "stream",
          "name": "stdout",
          "text": [
            "3.539336045595072\n",
            "20.71353768528408\n",
            "4.551212770820991\n",
            "0.1539581336095327\n",
            "91.07962296919086\n"
          ]
        }
      ]
    },
    {
      "cell_type": "markdown",
      "source": [
        "***Fitting the linear regression with only G1 G2 and absences variables***"
      ],
      "metadata": {
        "id": "pQ-fv2YS_O_N"
      }
    },
    {
      "cell_type": "code",
      "source": [
        "lm_hm = smf.ols(formula='G3 ~ absences+G1+G2', data=data).fit()\n",
        "lm_hm.params"
      ],
      "metadata": {
        "id": "nTUybzJCoAt0",
        "colab": {
          "base_uri": "https://localhost:8080/"
        },
        "outputId": "1ffe568a-86cb-40d3-b363-2597d7dbc218"
      },
      "execution_count": null,
      "outputs": [
        {
          "output_type": "execute_result",
          "data": {
            "text/plain": [
              "Intercept   -2.067468\n",
              "absences     0.036354\n",
              "G1           0.154525\n",
              "G2           0.988380\n",
              "dtype: float64"
            ]
          },
          "metadata": {},
          "execution_count": 40
        }
      ]
    },
    {
      "cell_type": "code",
      "source": [
        "lm_hm.summary()"
      ],
      "metadata": {
        "id": "hLI802ZDoECc",
        "colab": {
          "base_uri": "https://localhost:8080/",
          "height": 494
        },
        "outputId": "c69a4f55-444d-4a87-eeaa-b8f2d2c1f160"
      },
      "execution_count": null,
      "outputs": [
        {
          "output_type": "execute_result",
          "data": {
            "text/plain": [
              "<class 'statsmodels.iolib.summary.Summary'>\n",
              "\"\"\"\n",
              "                            OLS Regression Results                            \n",
              "==============================================================================\n",
              "Dep. Variable:                     G3   R-squared:                       0.826\n",
              "Model:                            OLS   Adj. R-squared:                  0.825\n",
              "Method:                 Least Squares   F-statistic:                     619.5\n",
              "Date:                Tue, 06 Sep 2022   Prob (F-statistic):          3.90e-148\n",
              "Time:                        10:43:28   Log-Likelihood:                -815.59\n",
              "No. Observations:                 395   AIC:                             1639.\n",
              "Df Residuals:                     391   BIC:                             1655.\n",
              "Df Model:                           3                                         \n",
              "Covariance Type:            nonrobust                                         \n",
              "==============================================================================\n",
              "                 coef    std err          t      P>|t|      [0.025      0.975]\n",
              "------------------------------------------------------------------------------\n",
              "Intercept     -2.0675      0.341     -6.060      0.000      -2.738      -1.397\n",
              "absences       0.0364      0.012      3.010      0.003       0.013       0.060\n",
              "G1             0.1545      0.056      2.779      0.006       0.045       0.264\n",
              "G2             0.9884      0.049     20.142      0.000       0.892       1.085\n",
              "==============================================================================\n",
              "Omnibus:                      228.806   Durbin-Watson:                   1.827\n",
              "Prob(Omnibus):                  0.000   Jarque-Bera (JB):             1474.871\n",
              "Skew:                          -2.493   Prob(JB):                         0.00\n",
              "Kurtosis:                      11.046   Cond. No.                         60.9\n",
              "==============================================================================\n",
              "\n",
              "Notes:\n",
              "[1] Standard Errors assume that the covariance matrix of the errors is correctly specified.\n",
              "\"\"\""
            ],
            "text/html": [
              "<table class=\"simpletable\">\n",
              "<caption>OLS Regression Results</caption>\n",
              "<tr>\n",
              "  <th>Dep. Variable:</th>           <td>G3</td>        <th>  R-squared:         </th> <td>   0.826</td> \n",
              "</tr>\n",
              "<tr>\n",
              "  <th>Model:</th>                   <td>OLS</td>       <th>  Adj. R-squared:    </th> <td>   0.825</td> \n",
              "</tr>\n",
              "<tr>\n",
              "  <th>Method:</th>             <td>Least Squares</td>  <th>  F-statistic:       </th> <td>   619.5</td> \n",
              "</tr>\n",
              "<tr>\n",
              "  <th>Date:</th>             <td>Tue, 06 Sep 2022</td> <th>  Prob (F-statistic):</th> <td>3.90e-148</td>\n",
              "</tr>\n",
              "<tr>\n",
              "  <th>Time:</th>                 <td>10:43:28</td>     <th>  Log-Likelihood:    </th> <td> -815.59</td> \n",
              "</tr>\n",
              "<tr>\n",
              "  <th>No. Observations:</th>      <td>   395</td>      <th>  AIC:               </th> <td>   1639.</td> \n",
              "</tr>\n",
              "<tr>\n",
              "  <th>Df Residuals:</th>          <td>   391</td>      <th>  BIC:               </th> <td>   1655.</td> \n",
              "</tr>\n",
              "<tr>\n",
              "  <th>Df Model:</th>              <td>     3</td>      <th>                     </th>     <td> </td>    \n",
              "</tr>\n",
              "<tr>\n",
              "  <th>Covariance Type:</th>      <td>nonrobust</td>    <th>                     </th>     <td> </td>    \n",
              "</tr>\n",
              "</table>\n",
              "<table class=\"simpletable\">\n",
              "<tr>\n",
              "      <td></td>         <th>coef</th>     <th>std err</th>      <th>t</th>      <th>P>|t|</th>  <th>[0.025</th>    <th>0.975]</th>  \n",
              "</tr>\n",
              "<tr>\n",
              "  <th>Intercept</th> <td>   -2.0675</td> <td>    0.341</td> <td>   -6.060</td> <td> 0.000</td> <td>   -2.738</td> <td>   -1.397</td>\n",
              "</tr>\n",
              "<tr>\n",
              "  <th>absences</th>  <td>    0.0364</td> <td>    0.012</td> <td>    3.010</td> <td> 0.003</td> <td>    0.013</td> <td>    0.060</td>\n",
              "</tr>\n",
              "<tr>\n",
              "  <th>G1</th>        <td>    0.1545</td> <td>    0.056</td> <td>    2.779</td> <td> 0.006</td> <td>    0.045</td> <td>    0.264</td>\n",
              "</tr>\n",
              "<tr>\n",
              "  <th>G2</th>        <td>    0.9884</td> <td>    0.049</td> <td>   20.142</td> <td> 0.000</td> <td>    0.892</td> <td>    1.085</td>\n",
              "</tr>\n",
              "</table>\n",
              "<table class=\"simpletable\">\n",
              "<tr>\n",
              "  <th>Omnibus:</th>       <td>228.806</td> <th>  Durbin-Watson:     </th> <td>   1.827</td>\n",
              "</tr>\n",
              "<tr>\n",
              "  <th>Prob(Omnibus):</th> <td> 0.000</td>  <th>  Jarque-Bera (JB):  </th> <td>1474.871</td>\n",
              "</tr>\n",
              "<tr>\n",
              "  <th>Skew:</th>          <td>-2.493</td>  <th>  Prob(JB):          </th> <td>    0.00</td>\n",
              "</tr>\n",
              "<tr>\n",
              "  <th>Kurtosis:</th>      <td>11.046</td>  <th>  Cond. No.          </th> <td>    60.9</td>\n",
              "</tr>\n",
              "</table><br/><br/>Notes:<br/>[1] Standard Errors assume that the covariance matrix of the errors is correctly specified."
            ]
          },
          "metadata": {},
          "execution_count": 41
        }
      ]
    },
    {
      "cell_type": "markdown",
      "source": [
        "## ***NEURAL NETWORKS***"
      ],
      "metadata": {
        "id": "MkU9S_2lMyJy"
      }
    },
    {
      "cell_type": "code",
      "source": [
        "x= a.drop(\"G3\", axis=1)\n",
        "y=a[\"G3\"]\n",
        "x.head"
      ],
      "metadata": {
        "id": "4V-zcuqB_sZV",
        "colab": {
          "base_uri": "https://localhost:8080/"
        },
        "outputId": "c190c275-c572-4ccb-9938-715f3069ab2e"
      },
      "execution_count": null,
      "outputs": [
        {
          "output_type": "execute_result",
          "data": {
            "text/plain": [
              "<bound method NDFrame.head of      studytime  G1  absences  failures  Sch_int  act_int  schoolsup_int  \\\n",
              "0            2   5         6         0        0        1              0   \n",
              "1            2   5         4         0        0        1              1   \n",
              "2            2   7        10         3        0        1              0   \n",
              "3            3  15         2         0        0        0              1   \n",
              "4            2   6         4         0        0        1              1   \n",
              "..         ...  ..       ...       ...      ...      ...            ...   \n",
              "390          2   9        11         2        1        1              1   \n",
              "391          1  14         3         0        1        1              1   \n",
              "392          1  10         3         3        1        1              1   \n",
              "393          1  11         0         0        1        1              1   \n",
              "394          1   8         5         0        1        1              1   \n",
              "\n",
              "     add_int  reason_int  paid_int  health  G2  gender  \n",
              "0          0           2         1       3   6       0  \n",
              "1          0           2         1       3   5       0  \n",
              "2          0           3         0       3   8       0  \n",
              "3          0           0         0       5  14       0  \n",
              "4          0           0         0       5  10       0  \n",
              "..       ...         ...       ...     ...  ..     ...  \n",
              "390        0           2         0       4   9       1  \n",
              "391        0           2         1       2  16       1  \n",
              "392        1           2         1       3   8       1  \n",
              "393        1           2         1       5  12       1  \n",
              "394        0           2         1       5   9       1  \n",
              "\n",
              "[395 rows x 13 columns]>"
            ]
          },
          "metadata": {},
          "execution_count": 10
        }
      ]
    },
    {
      "cell_type": "code",
      "source": [
        "from sklearn.model_selection import train_test_split\n",
        "x_train, x_test, y_train, y_test= train_test_split(x, y, test_size=0.30, random_state=42)\n",
        "y_test"
      ],
      "metadata": {
        "id": "_jnmtMoGACvz",
        "colab": {
          "base_uri": "https://localhost:8080/"
        },
        "outputId": "7cf283b8-eaa2-4aeb-e2d2-87c1e5d5ba22"
      },
      "execution_count": null,
      "outputs": [
        {
          "output_type": "execute_result",
          "data": {
            "text/plain": [
              "78     10\n",
              "371    12\n",
              "248     5\n",
              "55     10\n",
              "390     9\n",
              "       ..\n",
              "281    10\n",
              "245    18\n",
              "250     8\n",
              "218     8\n",
              "109    16\n",
              "Name: G3, Length: 119, dtype: int64"
            ]
          },
          "metadata": {},
          "execution_count": 32
        }
      ]
    },
    {
      "cell_type": "code",
      "source": [
        "tf.random.set_seed(42)\n",
        "\n",
        "# STEP1: Creating the model\n",
        "\n",
        "model= tf.keras.Sequential([\n",
        "                            tf.keras.layers.Dense(13),\n",
        "                            tf.keras.layers.Dense(7),\n",
        "                            tf.keras.layers.Dense(6),\n",
        "                            tf.keras.layers.Dense(1)\n",
        "])\n",
        "\n",
        "# STEP2: Compiling the model\n",
        "\n",
        "model.compile(loss= tf.keras.losses.mae,\n",
        "              optimizer= tf.keras.optimizers.SGD(),\n",
        "              metrics= ['mae']\n",
        "              )\n",
        "\n",
        "# STEP3: Fit the model\n",
        "\n",
        "history= model.fit(x_train, y_train, epochs= 200, verbose=0)"
      ],
      "metadata": {
        "id": "I4QtmI0JAGz6"
      },
      "execution_count": null,
      "outputs": []
    },
    {
      "cell_type": "code",
      "source": [
        "pd.DataFrame(history.history).plot()\n",
        "plt.xlabel('epochs')\n",
        "plt.ylabel('mae')\n",
        "plt.show()"
      ],
      "metadata": {
        "id": "Sd1Ms3taC3rL",
        "colab": {
          "base_uri": "https://localhost:8080/",
          "height": 285
        },
        "outputId": "ce87818a-ea82-47ee-e725-f8edb0d190f3"
      },
      "execution_count": null,
      "outputs": [
        {
          "output_type": "display_data",
          "data": {
            "text/plain": [
              "<Figure size 432x288 with 1 Axes>"
            ],
            "image/png": "[encoded data removed]"
          },
          "metadata": {
            "needs_background": "light"
          }
        }
      ]
    },
    {
      "cell_type": "code",
      "source": [
        "model.evaluate(x_test,y_test)"
      ],
      "metadata": {
        "id": "cf-hHM4vDTfV",
        "colab": {
          "base_uri": "https://localhost:8080/"
        },
        "outputId": "96f94033-00fd-4924-e5c4-b062bb7e4475"
      },
      "execution_count": null,
      "outputs": [
        {
          "output_type": "stream",
          "name": "stdout",
          "text": [
            "4/4 [==============================] - 0s 3ms/step - loss: 1.2988 - mae: 1.2988\n"
          ]
        },
        {
          "output_type": "execute_result",
          "data": {
            "text/plain": [
              "[1.2988437414169312, 1.2988437414169312]"
            ]
          },
          "metadata": {},
          "execution_count": 35
        }
      ]
    },
    {
      "cell_type": "markdown",
      "source": [
        "## ***BAGGING***"
      ],
      "metadata": {
        "id": "ARYA_332Lc6X"
      }
    },
    {
      "cell_type": "code",
      "source": [
        "from sklearn import datasets\n",
        "from sklearn.model_selection import train_test_split\n",
        "from sklearn.metrics import accuracy_score\n",
        "from sklearn.model_selection import cross_val_score\n",
        "from sklearn.ensemble import BaggingRegressor"
      ],
      "metadata": {
        "id": "4LQo1AvHGXU5"
      },
      "execution_count": null,
      "outputs": []
    },
    {
      "cell_type": "code",
      "source": [
        "x_train, x_test, y_train, y_test= train_test_split(x, y, test_size=0.2, random_state=42)"
      ],
      "metadata": {
        "id": "NVBME8x9H9EH"
      },
      "execution_count": null,
      "outputs": []
    },
    {
      "cell_type": "code",
      "source": [
        "bgr = BaggingRegressor(n_estimators=100, random_state=1)\n",
        "bgr.fit(x_train, y_train)"
      ],
      "metadata": {
        "id": "HtiT1YK8UOPh",
        "colab": {
          "base_uri": "https://localhost:8080/"
        },
        "outputId": "91144c09-c49e-424f-fe33-8804b9c150b7"
      },
      "execution_count": null,
      "outputs": [
        {
          "output_type": "execute_result",
          "data": {
            "text/plain": [
              "BaggingRegressor(n_estimators=100, random_state=1)"
            ]
          },
          "metadata": {},
          "execution_count": 91
        }
      ]
    },
    {
      "cell_type": "code",
      "source": [
        "bgr.score(x_test, y_test)"
      ],
      "metadata": {
        "colab": {
          "base_uri": "https://localhost:8080/"
        },
        "id": "0tMqgIOJKPpn",
        "outputId": "7f5a7435-747c-473a-b40f-1e961697c791"
      },
      "execution_count": null,
      "outputs": [
        {
          "output_type": "execute_result",
          "data": {
            "text/plain": [
              "0.8053875261776013"
            ]
          },
          "metadata": {},
          "execution_count": 92
        }
      ]
    },
    {
      "cell_type": "code",
      "source": [
        "mae = metrics.mean_absolute_error(y_test, bgr.predict(x_test)) \n",
        "print(mae)"
      ],
      "metadata": {
        "colab": {
          "base_uri": "https://localhost:8080/"
        },
        "id": "IWhFdCsUIY2L",
        "outputId": "6f745114-a026-4b0f-93cc-04f5eea983a5"
      },
      "execution_count": null,
      "outputs": [
        {
          "output_type": "stream",
          "name": "stdout",
          "text": [
            "1.2254430379746837\n"
          ]
        }
      ]
    },
    {
      "cell_type": "markdown",
      "source": [
        "## ***BOOSTING***"
      ],
      "metadata": {
        "id": "Kl_oDcb7Lwgd"
      }
    },
    {
      "cell_type": "markdown",
      "source": [
        "### ***ADAPTIVE*** ***BOOSTING***"
      ],
      "metadata": {
        "id": "_eA1DHOXL4Xz"
      }
    },
    {
      "cell_type": "code",
      "source": [
        "from sklearn.ensemble import AdaBoostRegressor\n",
        "from sklearn import datasets\n",
        "# Import train_test_split function\n",
        "from sklearn.model_selection import train_test_split\n",
        "#Import scikit-learn metrics module for accuracy calculation\n",
        "from sklearn import metrics"
      ],
      "metadata": {
        "id": "DHrVB1AcUOLR"
      },
      "execution_count": null,
      "outputs": []
    },
    {
      "cell_type": "code",
      "source": [
        "x_train, x_test, y_train, y_test= train_test_split(x, y, test_size=0.4, random_state=42)"
      ],
      "metadata": {
        "id": "skSnnteoJIrX"
      },
      "execution_count": null,
      "outputs": []
    },
    {
      "cell_type": "code",
      "source": [
        "# Create adaboost classifer object\n",
        "abc = AdaBoostRegressor(n_estimators=100,\n",
        "                         learning_rate=0.6)\n",
        "# Train Adaboost Classifer\n",
        "model = abc.fit(x_train, y_train)\n",
        "model.score(x_test, y_test)"
      ],
      "metadata": {
        "id": "0uxXX2INUOFJ",
        "colab": {
          "base_uri": "https://localhost:8080/"
        },
        "outputId": "6d56316a-781e-4a87-9baa-53e85b63fb35"
      },
      "execution_count": null,
      "outputs": [
        {
          "output_type": "execute_result",
          "data": {
            "text/plain": [
              "0.8437913693735604"
            ]
          },
          "metadata": {},
          "execution_count": 59
        }
      ]
    },
    {
      "cell_type": "code",
      "source": [
        "mae = metrics.mean_absolute_error(y_test, model.predict(x_test)) \n",
        "print(mae)"
      ],
      "metadata": {
        "colab": {
          "base_uri": "https://localhost:8080/"
        },
        "id": "BqVnRjp2JLmU",
        "outputId": "f0704dbb-250f-41d3-8c4c-c6d9de0b232b"
      },
      "execution_count": null,
      "outputs": [
        {
          "output_type": "stream",
          "name": "stdout",
          "text": [
            "1.168958905312088\n"
          ]
        }
      ]
    },
    {
      "cell_type": "markdown",
      "source": [
        "### ***GRADIENT BOOSTING*** "
      ],
      "metadata": {
        "id": "tLN79KZuL_Cm"
      }
    },
    {
      "cell_type": "code",
      "source": [
        "from sklearn.ensemble import GradientBoostingRegressor"
      ],
      "metadata": {
        "id": "SI2aE7JXUN_N"
      },
      "execution_count": null,
      "outputs": []
    },
    {
      "cell_type": "code",
      "source": [
        "x_train, x_test, y_train, y_test= train_test_split(x, y, test_size=0.25, random_state=42)"
      ],
      "metadata": {
        "id": "IpMvhN2Am79c"
      },
      "execution_count": null,
      "outputs": []
    },
    {
      "cell_type": "code",
      "source": [
        "reg = GradientBoostingRegressor(n_estimators=100, learning_rate=0.6,max_depth=1,\n",
        " random_state=0).fit(x_train, y_train)\n",
        "reg.score(x_test, y_test)"
      ],
      "metadata": {
        "colab": {
          "base_uri": "https://localhost:8080/"
        },
        "id": "pdXB8JD2J4BB",
        "outputId": "b95afef1-6afb-46e4-c9ed-0e8c2f54b60a"
      },
      "execution_count": null,
      "outputs": [
        {
          "output_type": "execute_result",
          "data": {
            "text/plain": [
              "0.8180597501318607"
            ]
          },
          "metadata": {},
          "execution_count": 144
        }
      ]
    },
    {
      "cell_type": "code",
      "source": [
        "mae = metrics.mean_absolute_error(y_test, reg.predict(x_test)) \n",
        "print(mae)"
      ],
      "metadata": {
        "colab": {
          "base_uri": "https://localhost:8080/"
        },
        "id": "tNlZ37n6KHul",
        "outputId": "b8da3c25-9ecf-45fa-d852-295050591176"
      },
      "execution_count": null,
      "outputs": [
        {
          "output_type": "stream",
          "name": "stdout",
          "text": [
            "1.442962140534077\n"
          ]
        }
      ]
    },
    {
      "cell_type": "markdown",
      "source": [
        "### ***XG BOOSTING***"
      ],
      "metadata": {
        "id": "m7W3q2-zMHDm"
      }
    },
    {
      "cell_type": "code",
      "source": [
        "from xgboost import XGBRegressor"
      ],
      "metadata": {
        "id": "wHzvb-elKdx-"
      },
      "execution_count": null,
      "outputs": []
    },
    {
      "cell_type": "code",
      "source": [
        "x_train, x_test, y_train, y_test= train_test_split(x, y, test_size=0.25, random_state=42)"
      ],
      "metadata": {
        "id": "mCKd11_UmRAr"
      },
      "execution_count": null,
      "outputs": []
    },
    {
      "cell_type": "code",
      "source": [
        "xgbr = XGBRegressor()\n",
        "xgbr.fit(x_train, y_train)"
      ],
      "metadata": {
        "colab": {
          "base_uri": "https://localhost:8080/"
        },
        "id": "qn-Ol911Kduo",
        "outputId": "36fd42fb-d033-4bd7-f516-e25d98106a1e"
      },
      "execution_count": null,
      "outputs": [
        {
          "output_type": "stream",
          "name": "stdout",
          "text": [
            "[13:23:40] WARNING: /workspace/src/objective/regression_obj.cu:152: reg:linear is now deprecated in favor of reg:squarederror.\n"
          ]
        },
        {
          "output_type": "execute_result",
          "data": {
            "text/plain": [
              "XGBRegressor()"
            ]
          },
          "metadata": {},
          "execution_count": 53
        }
      ]
    },
    {
      "cell_type": "code",
      "source": [
        "mae = metrics.mean_absolute_error(y_test, xgbr.predict(x_test)) \n",
        "print(mae)"
      ],
      "metadata": {
        "colab": {
          "base_uri": "https://localhost:8080/"
        },
        "id": "7WJ_j3J9KdrT",
        "outputId": "21ace4ad-4c25-4c62-b2ae-1950ce03b4ae"
      },
      "execution_count": null,
      "outputs": [
        {
          "output_type": "stream",
          "name": "stdout",
          "text": [
            "1.1758924301224525\n"
          ]
        }
      ]
    },
    {
      "cell_type": "code",
      "source": [
        "xgbr.score(x_test, y_test)"
      ],
      "metadata": {
        "colab": {
          "base_uri": "https://localhost:8080/"
        },
        "id": "C6NvsarILMqx",
        "outputId": "e58e554b-bd06-482d-a57e-9dd4139902bf"
      },
      "execution_count": null,
      "outputs": [
        {
          "output_type": "execute_result",
          "data": {
            "text/plain": [
              "0.8455633004068648"
            ]
          },
          "metadata": {},
          "execution_count": 55
        }
      ]
    },
    {
      "cell_type": "code",
      "source": [],
      "metadata": {
        "id": "T0uN5pM2Kdo9"
      },
      "execution_count": null,
      "outputs": []
    },
    {
      "cell_type": "code",
      "source": [],
      "metadata": {
        "id": "1DQ_UhjrQiaR"
      },
      "execution_count": null,
      "outputs": []
    },
    {
      "cell_type": "code",
      "source": [],
      "metadata": {
        "id": "gyfclDaqQiW4"
      },
      "execution_count": null,
      "outputs": []
    },
    {
      "cell_type": "code",
      "source": [],
      "metadata": {
        "id": "u_6YVSdIQiUu"
      },
      "execution_count": null,
      "outputs": []
    },
    {
      "cell_type": "code",
      "source": [],
      "metadata": {
        "id": "YXKrhfnuQiSJ"
      },
      "execution_count": null,
      "outputs": []
    },
    {
      "cell_type": "code",
      "source": [],
      "metadata": {
        "id": "RQZ9YY3gQiPX"
      },
      "execution_count": null,
      "outputs": []
    },
    {
      "cell_type": "code",
      "source": [],
      "metadata": {
        "id": "GiJptJWoQiNY"
      },
      "execution_count": null,
      "outputs": []
    },
    {
      "cell_type": "code",
      "source": [],
      "metadata": {
        "id": "kNElcuwQQiK6"
      },
      "execution_count": null,
      "outputs": []
    },
    {
      "cell_type": "code",
      "source": [],
      "metadata": {
        "id": "s_coYGI7QiIg"
      },
      "execution_count": null,
      "outputs": []
    },
    {
      "cell_type": "code",
      "source": [],
      "metadata": {
        "id": "CecNgN4bQiGP"
      },
      "execution_count": null,
      "outputs": []
    },
    {
      "cell_type": "code",
      "source": [],
      "metadata": {
        "id": "wrYfgFXxQiD_"
      },
      "execution_count": null,
      "outputs": []
    },
    {
      "cell_type": "code",
      "source": [
        "x= a.drop(\"G3\", axis=1)\n",
        "y=a[\"G3\"]\n",
        "x.head"
      ],
      "metadata": {
        "id": "p9ijzpeaUNtH",
        "colab": {
          "base_uri": "https://localhost:8080/"
        },
        "outputId": "0dffc8c6-7c34-4fe2-caaf-d1e8f49def3d"
      },
      "execution_count": null,
      "outputs": [
        {
          "output_type": "execute_result",
          "data": {
            "text/plain": [
              "<bound method NDFrame.head of      gender  studytime  absences  paid_int  act_int  add_int  Sch_int  G1  \\\n",
              "0         0          2         6         1        1        0        0   5   \n",
              "1         0          2         4         1        1        0        0   5   \n",
              "2         0          2        10         0        1        0        0   7   \n",
              "3         0          3         2         0        0        0        0  15   \n",
              "4         0          2         4         0        1        0        0   6   \n",
              "..      ...        ...       ...       ...      ...      ...      ...  ..   \n",
              "390       1          2        11         0        1        0        1   9   \n",
              "391       1          1         3         1        1        0        1  14   \n",
              "392       1          1         3         1        1        1        1  10   \n",
              "393       1          1         0         1        1        1        1  11   \n",
              "394       1          1         5         1        1        0        1   8   \n",
              "\n",
              "     reason_int  health  schoolsup_int  G2  failures  \n",
              "0             2       3              0   6         0  \n",
              "1             2       3              1   5         0  \n",
              "2             3       3              0   8         3  \n",
              "3             0       5              1  14         0  \n",
              "4             0       5              1  10         0  \n",
              "..          ...     ...            ...  ..       ...  \n",
              "390           2       4              1   9         2  \n",
              "391           2       2              1  16         0  \n",
              "392           2       3              1   8         3  \n",
              "393           2       5              1  12         0  \n",
              "394           2       5              1   9         0  \n",
              "\n",
              "[395 rows x 13 columns]>"
            ]
          },
          "metadata": {},
          "execution_count": 90
        }
      ]
    },
    {
      "cell_type": "code",
      "source": [
        "from sklearn.model_selection import train_test_split\n",
        "x_train, x_test, y_train, y_test= train_test_split(x, y, test_size=0.30, random_state=42)\n",
        "y_test"
      ],
      "metadata": {
        "id": "VipueeO7XoRE",
        "colab": {
          "base_uri": "https://localhost:8080/"
        },
        "outputId": "e798614b-2210-4a27-955a-8727735ec759"
      },
      "execution_count": null,
      "outputs": [
        {
          "output_type": "execute_result",
          "data": {
            "text/plain": [
              "78     10\n",
              "371    12\n",
              "248     5\n",
              "55     10\n",
              "390     9\n",
              "       ..\n",
              "281    10\n",
              "245    18\n",
              "250     8\n",
              "218     8\n",
              "109    16\n",
              "Name: G3, Length: 119, dtype: int64"
            ]
          },
          "metadata": {},
          "execution_count": 91
        }
      ]
    },
    {
      "cell_type": "code",
      "source": [
        "tf.random.set_seed(42)\n",
        "\n",
        "# STEP1: Creating the model\n",
        "\n",
        "model= tf.keras.Sequential([\n",
        "                            tf.keras.layers.Dense(10),\n",
        "                            tf.keras.layers.Dense(8),\n",
        "                            tf.keras.layers.Dense(1)\n",
        "])\n",
        "\n",
        "# STEP2: Compiling the model\n",
        "\n",
        "model.compile(loss= tf.keras.losses.mae,\n",
        "              optimizer= tf.keras.optimizers.Adam(),\n",
        "              metrics= ['mae']\n",
        "              )\n",
        "\n",
        "# STEP3: Fit the model\n",
        "\n",
        "h3= model.fit(x_train, y_train, epochs= 100, verbose=0)"
      ],
      "metadata": {
        "id": "ilCzXJiIXwvU"
      },
      "execution_count": null,
      "outputs": []
    },
    {
      "cell_type": "code",
      "source": [
        "model.evaluate(x_test,y_test)\n"
      ],
      "metadata": {
        "id": "8RgL24Y7X7qq",
        "colab": {
          "base_uri": "https://localhost:8080/"
        },
        "outputId": "06d3f0f5-c7fc-4ac8-f39f-1419939a2885"
      },
      "execution_count": null,
      "outputs": [
        {
          "output_type": "stream",
          "name": "stdout",
          "text": [
            "4/4 [==============================] - 0s 3ms/step - loss: 1.0543 - mae: 1.0543\n"
          ]
        },
        {
          "output_type": "execute_result",
          "data": {
            "text/plain": [
              "[1.0543289184570312, 1.0543289184570312]"
            ]
          },
          "metadata": {},
          "execution_count": 65
        }
      ]
    },
    {
      "cell_type": "code",
      "source": [
        "from sklearn.model_selection import train_test_split\n",
        "x_train, x_test, y_train, y_test= train_test_split(x, y, test_size=0.30, random_state=42)\n",
        "y_test"
      ],
      "metadata": {
        "id": "s6c58Io1YyaG",
        "colab": {
          "base_uri": "https://localhost:8080/"
        },
        "outputId": "00fbcd04-8cab-4196-c19f-8981e7d9a37a"
      },
      "execution_count": null,
      "outputs": [
        {
          "output_type": "execute_result",
          "data": {
            "text/plain": [
              "78     10\n",
              "371    12\n",
              "248     5\n",
              "55     10\n",
              "390     9\n",
              "       ..\n",
              "281    10\n",
              "245    18\n",
              "250     8\n",
              "218     8\n",
              "109    16\n",
              "Name: G3, Length: 119, dtype: int64"
            ]
          },
          "metadata": {},
          "execution_count": 66
        }
      ]
    },
    {
      "cell_type": "code",
      "source": [
        "tf.random.set_seed(42)\n",
        "\n",
        "# STEP1: Creating the model\n",
        "\n",
        "model= tf.keras.Sequential([\n",
        "                            tf.keras.layers.Dense(10),\n",
        "                            tf.keras.layers.Dense(8),\n",
        "                            tf.keras.layers.Dense(1)\n",
        "])\n",
        "\n",
        "# STEP2: Compiling the model\n",
        "\n",
        "model.compile(loss= tf.keras.losses.mae,\n",
        "              optimizer= tf.keras.optimizers.Adam(),\n",
        "              metrics= ['mae']\n",
        "              )\n",
        "\n",
        "# STEP3: Fit the model\n",
        "\n",
        "h3= model.fit(x_train, y_train, epochs= 20, verbose=0)"
      ],
      "metadata": {
        "id": "KQ4jHu83Z20o"
      },
      "execution_count": null,
      "outputs": []
    },
    {
      "cell_type": "code",
      "source": [
        "model.evaluate(x_test,y_test)\n"
      ],
      "metadata": {
        "id": "k5r-jy5fa2pC",
        "colab": {
          "base_uri": "https://localhost:8080/"
        },
        "outputId": "52446b72-0598-4797-8167-4581604bed23"
      },
      "execution_count": null,
      "outputs": [
        {
          "output_type": "stream",
          "name": "stdout",
          "text": [
            "4/4 [==============================] - 0s 3ms/step - loss: 1.2687 - mae: 1.2687\n"
          ]
        },
        {
          "output_type": "execute_result",
          "data": {
            "text/plain": [
              "[1.2687360048294067, 1.2687360048294067]"
            ]
          },
          "metadata": {},
          "execution_count": 68
        }
      ]
    },
    {
      "cell_type": "code",
      "source": [
        "tf.random.set_seed(42)\n",
        "\n",
        "# STEP1: Creating the model\n",
        "\n",
        "model= tf.keras.Sequential([\n",
        "                            tf.keras.layers.Dense(10),\n",
        "                            tf.keras.layers.Dense(8),\n",
        "                            tf.keras.layers.Dense(1)\n",
        "])\n",
        "\n",
        "# STEP2: Compiling the model\n",
        "\n",
        "model.compile(loss= tf.keras.losses.mae,\n",
        "              optimizer= tf.keras.optimizers.Adam(),\n",
        "              metrics= ['mae']\n",
        "              )\n",
        "\n",
        "# STEP3: Fit the model\n",
        "\n",
        "h3= model.fit(x_train, y_train, epochs= 50, verbose=0)"
      ],
      "metadata": {
        "id": "8adhlQ4wcSZ6"
      },
      "execution_count": null,
      "outputs": []
    },
    {
      "cell_type": "code",
      "source": [
        "model.evaluate(x_test,y_test)\n"
      ],
      "metadata": {
        "id": "vtApEaOecjZy",
        "colab": {
          "base_uri": "https://localhost:8080/"
        },
        "outputId": "c6e6a76f-e1a2-4927-a48f-9c91552c75d2"
      },
      "execution_count": null,
      "outputs": [
        {
          "output_type": "stream",
          "name": "stdout",
          "text": [
            "4/4 [==============================] - 0s 3ms/step - loss: 1.1256 - mae: 1.1256\n"
          ]
        },
        {
          "output_type": "execute_result",
          "data": {
            "text/plain": [
              "[1.1256110668182373, 1.1256110668182373]"
            ]
          },
          "metadata": {},
          "execution_count": 70
        }
      ]
    },
    {
      "cell_type": "code",
      "source": [
        "tf.random.set_seed(42)\n",
        "\n",
        "# STEP1: Creating the model\n",
        "\n",
        "model= tf.keras.Sequential([\n",
        "                            tf.keras.layers.Dense(10),\n",
        "                            tf.keras.layers.Dense(8),\n",
        "                            tf.keras.layers.Dense(1)\n",
        "])\n",
        "\n",
        "# STEP2: Compiling the model\n",
        "\n",
        "model.compile(loss= tf.keras.losses.mae,\n",
        "              optimizer= tf.keras.optimizers.Adam(),\n",
        "              metrics= ['mae']\n",
        "              )\n",
        "\n",
        "# STEP3: Fit the model\n",
        "\n",
        "h3= model.fit(x_train, y_train, epochs= 100, verbose=0)"
      ],
      "metadata": {
        "id": "6ZVUWaFIcjX4"
      },
      "execution_count": null,
      "outputs": []
    },
    {
      "cell_type": "code",
      "source": [
        "model.evaluate(x_test,y_test)\n"
      ],
      "metadata": {
        "id": "Krr0SeUCdWlv",
        "colab": {
          "base_uri": "https://localhost:8080/"
        },
        "outputId": "c8313c2b-517f-4a77-fb14-35f684103d6b"
      },
      "execution_count": null,
      "outputs": [
        {
          "output_type": "stream",
          "name": "stdout",
          "text": [
            "4/4 [==============================] - 0s 3ms/step - loss: 1.0543 - mae: 1.0543\n"
          ]
        },
        {
          "output_type": "execute_result",
          "data": {
            "text/plain": [
              "[1.0543289184570312, 1.0543289184570312]"
            ]
          },
          "metadata": {},
          "execution_count": 72
        }
      ]
    },
    {
      "cell_type": "code",
      "source": [
        "tf.random.set_seed(42)\n",
        "\n",
        "# STEP1: Creating the model\n",
        "\n",
        "model= tf.keras.Sequential([\n",
        "                            tf.keras.layers.Dense(10),\n",
        "                            tf.keras.layers.Dense(8),\n",
        "                            tf.keras.layers.Dense(1)\n",
        "])\n",
        "\n",
        "# STEP2: Compiling the model\n",
        "\n",
        "model.compile(loss= tf.keras.losses.mae,\n",
        "              optimizer= tf.keras.optimizers.SGD(),\n",
        "              metrics= ['mae']\n",
        "              )\n",
        "\n",
        "# STEP3: Fit the model\n",
        "\n",
        "h3= model.fit(x_train, y_train, epochs= 200, verbose=0)"
      ],
      "metadata": {
        "id": "jMttPG1BdkO7"
      },
      "execution_count": null,
      "outputs": []
    },
    {
      "cell_type": "code",
      "source": [
        "model.evaluate(x_test,y_test)\n"
      ],
      "metadata": {
        "id": "9655f4swd7Ha",
        "colab": {
          "base_uri": "https://localhost:8080/"
        },
        "outputId": "636fc11d-b8cd-43da-8027-cfc51c81af02"
      },
      "execution_count": null,
      "outputs": [
        {
          "output_type": "stream",
          "name": "stdout",
          "text": [
            "4/4 [==============================] - 0s 3ms/step - loss: 3.3357 - mae: 3.3357\n"
          ]
        },
        {
          "output_type": "execute_result",
          "data": {
            "text/plain": [
              "[3.335735321044922, 3.335735321044922]"
            ]
          },
          "metadata": {},
          "execution_count": 74
        }
      ]
    },
    {
      "cell_type": "code",
      "source": [
        "tf.random.set_seed(42)\n",
        "\n",
        "# STEP1: Creating the model\n",
        "\n",
        "model= tf.keras.Sequential([\n",
        "                            tf.keras.layers.Dense(10),\n",
        "                            tf.keras.layers.Dense(8),\n",
        "                            tf.keras.layers.Dense(1)\n",
        "])\n",
        "\n",
        "# STEP2: Compiling the model\n",
        "\n",
        "model.compile(loss= tf.keras.losses.mae,\n",
        "              optimizer= tf.keras.optimizers.Adam(),\n",
        "              metrics= ['mae']\n",
        "              )\n",
        "\n",
        "# STEP3: Fit the model\n",
        "\n",
        "h3= model.fit(x_train, y_train, epochs= 300, verbose=0)"
      ],
      "metadata": {
        "id": "rYGZ15TfeOaG"
      },
      "execution_count": null,
      "outputs": []
    },
    {
      "cell_type": "code",
      "source": [
        "model.evaluate(x_test,y_test)\n"
      ],
      "metadata": {
        "id": "EaTIqDQTeOWx",
        "colab": {
          "base_uri": "https://localhost:8080/"
        },
        "outputId": "477ccb95-3e87-4a21-e811-5f1d65690b6a"
      },
      "execution_count": null,
      "outputs": [
        {
          "output_type": "stream",
          "name": "stdout",
          "text": [
            "4/4 [==============================] - 0s 3ms/step - loss: 1.0484 - mae: 1.0484\n"
          ]
        },
        {
          "output_type": "execute_result",
          "data": {
            "text/plain": [
              "[1.0483615398406982, 1.0483615398406982]"
            ]
          },
          "metadata": {},
          "execution_count": 76
        }
      ]
    },
    {
      "cell_type": "code",
      "source": [
        "tf.random.set_seed(42)\n",
        "\n",
        "# STEP1: Creating the model\n",
        "\n",
        "model= tf.keras.Sequential([\n",
        "                            tf.keras.layers.Dense(10),\n",
        "                            tf.keras.layers.Dense(8),\n",
        "                            tf.keras.layers.Dense(1)\n",
        "])\n",
        "\n",
        "# STEP2: Compiling the model\n",
        "\n",
        "model.compile(loss= tf.keras.losses.mae,\n",
        "              optimizer= tf.keras.optimizers.Adam(),\n",
        "              metrics= ['mae']\n",
        "              )\n",
        "\n",
        "# STEP3: Fit the model\n",
        "\n",
        "h3= model.fit(x_train, y_train, epochs= 500, verbose=0)"
      ],
      "metadata": {
        "id": "UouZ6Bf4eoOx"
      },
      "execution_count": null,
      "outputs": []
    },
    {
      "cell_type": "code",
      "source": [
        "model.evaluate(x_test,y_test)\n"
      ],
      "metadata": {
        "id": "ZLdjxg6ZeoEp",
        "colab": {
          "base_uri": "https://localhost:8080/"
        },
        "outputId": "37b6564e-dec5-4b3c-8dff-9bbe073080fc"
      },
      "execution_count": null,
      "outputs": [
        {
          "output_type": "stream",
          "name": "stdout",
          "text": [
            "4/4 [==============================] - 0s 3ms/step - loss: 1.0498 - mae: 1.0498\n"
          ]
        },
        {
          "output_type": "execute_result",
          "data": {
            "text/plain": [
              "[1.0497872829437256, 1.0497872829437256]"
            ]
          },
          "metadata": {},
          "execution_count": 78
        }
      ]
    },
    {
      "cell_type": "code",
      "source": [
        "tf.random.set_seed(42)\n",
        "\n",
        "# STEP1: Creating the model\n",
        "\n",
        "model= tf.keras.Sequential([\n",
        "                            tf.keras.layers.Dense(10),\n",
        "                            tf.keras.layers.Dense(8),\n",
        "                            tf.keras.layers.Dense(1)\n",
        "])\n",
        "\n",
        "# STEP2: Compiling the model\n",
        "\n",
        "model.compile(loss= tf.keras.losses.mae,\n",
        "              optimizer= tf.keras.optimizers.Adam(),\n",
        "              metrics= ['mae']\n",
        "              )\n",
        "\n",
        "# STEP3: Fit the model\n",
        "\n",
        "h3= model.fit(x_train, y_train, epochs= 300, verbose=0)"
      ],
      "metadata": {
        "id": "Ht1tdgksfHvD"
      },
      "execution_count": null,
      "outputs": []
    },
    {
      "cell_type": "code",
      "source": [
        "tf.random.set_seed(42)\n",
        "\n",
        "# STEP1: Creating the model\n",
        "\n",
        "model= tf.keras.Sequential([\n",
        "                            tf.keras.layers.Dense(10),\n",
        "                            tf.keras.layers.Dense(8),\n",
        "                            tf.keras.layers.Dense(1)\n",
        "                            \n",
        "])\n",
        "\n",
        "# STEP2: Compiling the model\n",
        "\n",
        "model.compile(loss= tf.keras.losses.mae,\n",
        "              optimizer= tf.keras.optimizers.Adam(),\n",
        "              metrics= ['mae']\n",
        "              )\n",
        "\n",
        "# STEP3: Fit the model\n",
        "\n",
        "h3= model.fit(x_train, y_train, epochs= 300, verbose=0)"
      ],
      "metadata": {
        "id": "-ndvF92ufHqD"
      },
      "execution_count": null,
      "outputs": []
    },
    {
      "cell_type": "code",
      "source": [
        "tf.random.set_seed(42)\n",
        "\n",
        "# STEP1: Creating the model\n",
        "\n",
        "model= tf.keras.Sequential([\n",
        "                            tf.keras.layers.Dense(13),\n",
        "                            tf.keras.layers.Dense(7),\n",
        "                            tf.keras.layers.Dense(6),\n",
        "                            tf.keras.layers.Dense(1)                           \n",
        "])\n",
        "\n",
        "# STEP2: Compiling the model\n",
        "\n",
        "model.compile(loss= tf.keras.losses.mae,\n",
        "              optimizer= tf.keras.optimizers.Adam(),\n",
        "              metrics= ['mae']\n",
        "              )\n",
        "\n",
        "# STEP3: Fit the model\n",
        "\n",
        "h3= model.fit(x_train, y_train, epochs= 20, verbose=0)"
      ],
      "metadata": {
        "id": "7vYJGkB_dMDG"
      },
      "execution_count": null,
      "outputs": []
    },
    {
      "cell_type": "code",
      "source": [
        "tf.random.set_seed(42)\n",
        "\n",
        "# STEP1: Creating the model\n",
        "\n",
        "model= tf.keras.Sequential([\n",
        "                            tf.keras.layers.Dense(13),\n",
        "                            tf.keras.layers.Dense(7),\n",
        "                            tf.keras.layers.Dense(6),\n",
        "                            tf.keras.layers.Dense(1)\n",
        "])\n",
        "\n",
        "# STEP2: Compiling the model\n",
        "\n",
        "model.compile(loss= tf.keras.losses.mae,\n",
        "              optimizer= tf.keras.optimizers.Adam(),\n",
        "              metrics= ['mae']\n",
        "              )\n",
        "\n",
        "# STEP3: Fit the model\n",
        "\n",
        "h3= model.fit(x_train, y_train, epochs= 20, verbose=0)"
      ],
      "metadata": {
        "id": "ngRnROJ8u7yU"
      },
      "execution_count": null,
      "outputs": []
    },
    {
      "cell_type": "code",
      "source": [
        "model.evaluate(x_test,y_test)\n"
      ],
      "metadata": {
        "colab": {
          "base_uri": "https://localhost:8080/"
        },
        "id": "bzwrsmOHwP5t",
        "outputId": "6f262080-73a4-4bf6-cd43-f2976b539931"
      },
      "execution_count": null,
      "outputs": [
        {
          "output_type": "stream",
          "name": "stdout",
          "text": [
            "4/4 [==============================] - 0s 3ms/step - loss: 1.2033 - mae: 1.2033\n"
          ]
        },
        {
          "output_type": "execute_result",
          "data": {
            "text/plain": [
              "[1.2033109664916992, 1.2033109664916992]"
            ]
          },
          "metadata": {},
          "execution_count": 83
        }
      ]
    },
    {
      "cell_type": "code",
      "source": [
        "tf.random.set_seed(42)\n",
        "\n",
        "# STEP1: Creating the model\n",
        "\n",
        "model= tf.keras.Sequential([\n",
        "                            tf.keras.layers.Dense(13),\n",
        "                            tf.keras.layers.Dense(7),\n",
        "                            tf.keras.layers.Dense(6),\n",
        "                            tf.keras.layers.Dense(1)\n",
        "])\n",
        "\n",
        "# STEP2: Compiling the model\n",
        "\n",
        "model.compile(loss= tf.keras.losses.mae,\n",
        "              optimizer= tf.keras.optimizers.Adam(),\n",
        "              metrics= ['mae']\n",
        "              )\n",
        "\n",
        "# STEP3: Fit the model\n",
        "\n",
        "h3= model.fit(x_train, y_train, epochs= 50, verbose=0)"
      ],
      "metadata": {
        "id": "MM3HGoQowpAd"
      },
      "execution_count": null,
      "outputs": []
    },
    {
      "cell_type": "code",
      "source": [
        "model.evaluate(x_test,y_test)\n"
      ],
      "metadata": {
        "colab": {
          "base_uri": "https://localhost:8080/"
        },
        "id": "exVu77cawo5t",
        "outputId": "e90c07b7-44d7-4c1b-beb6-f161f7f0fb97"
      },
      "execution_count": null,
      "outputs": [
        {
          "output_type": "stream",
          "name": "stdout",
          "text": [
            "4/4 [==============================] - 0s 3ms/step - loss: 1.1023 - mae: 1.1023\n"
          ]
        },
        {
          "output_type": "execute_result",
          "data": {
            "text/plain": [
              "[1.1023318767547607, 1.1023318767547607]"
            ]
          },
          "metadata": {},
          "execution_count": 85
        }
      ]
    },
    {
      "cell_type": "code",
      "source": [
        "from sklearn.model_selection import train_test_split\n",
        "x_train, x_test, y_train, y_test= train_test_split(x, y, test_size=0.30, random_state=42)\n",
        "y_test"
      ],
      "metadata": {
        "id": "VPdYV9Cvu8Q_",
        "colab": {
          "base_uri": "https://localhost:8080/"
        },
        "outputId": "39b2f2c9-4298-4527-c1b8-c36a52ed3cd7"
      },
      "execution_count": null,
      "outputs": [
        {
          "output_type": "execute_result",
          "data": {
            "text/plain": [
              "78     10\n",
              "371    12\n",
              "248     5\n",
              "55     10\n",
              "390     9\n",
              "       ..\n",
              "281    10\n",
              "245    18\n",
              "250     8\n",
              "218     8\n",
              "109    16\n",
              "Name: G3, Length: 119, dtype: int64"
            ]
          },
          "metadata": {},
          "execution_count": 86
        }
      ]
    },
    {
      "cell_type": "code",
      "source": [
        "tf.random.set_seed(42)\n",
        "\n",
        "# STEP1: Creating the model\n",
        "\n",
        "model= tf.keras.Sequential([\n",
        "                            tf.keras.layers.Dense(13),\n",
        "                            tf.keras.layers.Dense(7),\n",
        "                            tf.keras.layers.Dense(6),\n",
        "                            tf.keras.layers.Dense(1)\n",
        "])\n",
        "\n",
        "# STEP2: Compiling the model\n",
        "\n",
        "model.compile(loss= tf.keras.losses.mae,\n",
        "              optimizer= tf.keras.optimizers.SGD(),\n",
        "              metrics= ['mae']\n",
        "              )\n",
        "\n",
        "# STEP3: Fit the model\n",
        "\n",
        "h3= model.fit(x_train, y_train, epochs= 100, verbose=0)"
      ],
      "metadata": {
        "id": "_x0BYI5nxiP2"
      },
      "execution_count": null,
      "outputs": []
    },
    {
      "cell_type": "code",
      "source": [
        "model.evaluate(x_test,y_test)\n"
      ],
      "metadata": {
        "colab": {
          "base_uri": "https://localhost:8080/"
        },
        "id": "btsMbnRJxiHw",
        "outputId": "95dc384f-5267-4110-ba39-2e59e176b568"
      },
      "execution_count": null,
      "outputs": [
        {
          "output_type": "stream",
          "name": "stdout",
          "text": [
            "4/4 [==============================] - 0s 3ms/step - loss: 1.4161 - mae: 1.4161\n"
          ]
        },
        {
          "output_type": "execute_result",
          "data": {
            "text/plain": [
              "[1.4161311388015747, 1.4161311388015747]"
            ]
          },
          "metadata": {},
          "execution_count": 88
        }
      ]
    },
    {
      "cell_type": "code",
      "source": [
        "pd.DataFrame(h3.history).plot()"
      ],
      "metadata": {
        "colab": {
          "base_uri": "https://localhost:8080/",
          "height": 285
        },
        "id": "8rg9CM2TkAw9",
        "outputId": "5960b5c6-a8a6-46c6-950a-4f8e74a414dc"
      },
      "execution_count": null,
      "outputs": [
        {
          "output_type": "execute_result",
          "data": {
            "text/plain": [
              "<matplotlib.axes._subplots.AxesSubplot at 0x7f8fa092d2d0>"
            ]
          },
          "metadata": {},
          "execution_count": 89
        },
        {
          "output_type": "display_data",
          "data": {
            "text/plain": [
              "<Figure size 432x288 with 1 Axes>"
            ],
            "image/png": "[encoded data removed]"
          },
          "metadata": {
            "needs_background": "light"
          }
        }
      ]
    },
    {
      "cell_type": "code",
      "source": [
        "tf.random.set_seed(42)\n",
        "\n",
        "# STEP1: Creating the model\n",
        "\n",
        "model= tf.keras.Sequential([\n",
        "                            tf.keras.layers.Dense(13),\n",
        "                            tf.keras.layers.Dense(7),\n",
        "                            tf.keras.layers.Dense(6),\n",
        "                            tf.keras.layers.Dense(1)\n",
        "])\n",
        "\n",
        "# STEP2: Compiling the model\n",
        "\n",
        "model.compile(loss= tf.keras.losses.mae,\n",
        "              optimizer= tf.keras.optimizers.SGD(),\n",
        "              metrics= ['mae']\n",
        "              )\n",
        "\n",
        "# STEP3: Fit the model\n",
        "\n",
        "h3= model.fit(x_train, y_train, epochs= 200, verbose=0)"
      ],
      "metadata": {
        "id": "bR6dHi53xwsy"
      },
      "execution_count": null,
      "outputs": []
    },
    {
      "cell_type": "code",
      "source": [
        "model.evaluate(x_test,y_test)\n"
      ],
      "metadata": {
        "colab": {
          "base_uri": "https://localhost:8080/"
        },
        "id": "rHETfsIJxwmh",
        "outputId": "f3b6913e-f4d9-4ac1-b020-7b95f4b14674"
      },
      "execution_count": null,
      "outputs": [
        {
          "output_type": "stream",
          "name": "stdout",
          "text": [
            "4/4 [==============================] - 0s 3ms/step - loss: 1.8740 - mae: 1.8740\n"
          ]
        },
        {
          "output_type": "execute_result",
          "data": {
            "text/plain": [
              "[1.8740311861038208, 1.8740311861038208]"
            ]
          },
          "metadata": {},
          "execution_count": 91
        }
      ]
    },
    {
      "cell_type": "code",
      "source": [
        "tf.random.set_seed(42)\n",
        "\n",
        "# STEP1: Creating the model\n",
        "\n",
        "model= tf.keras.Sequential([\n",
        "                            tf.keras.layers.Dense(13),\n",
        "                            tf.keras.layers.Dense(7),\n",
        "                            tf.keras.layers.Dense(6),\n",
        "                            tf.keras.layers.Dense(1)\n",
        "])\n",
        "\n",
        "# STEP2: Compiling the model\n",
        "\n",
        "model.compile(loss= tf.keras.losses.mae,\n",
        "              optimizer= tf.keras.optimizers.Adam(),\n",
        "              metrics= ['mae']\n",
        "              )\n",
        "\n",
        "# STEP3: Fit the model\n",
        "\n",
        "h3= model.fit(x_train, y_train, epochs= 300, verbose=0)"
      ],
      "metadata": {
        "id": "Sm9-CZ-Hx9rf"
      },
      "execution_count": null,
      "outputs": []
    },
    {
      "cell_type": "code",
      "source": [
        "model.evaluate(x_test,y_test)\n"
      ],
      "metadata": {
        "colab": {
          "base_uri": "https://localhost:8080/"
        },
        "id": "7w8E-7Y9x9cG",
        "outputId": "f8d3b36d-272a-4c2f-fd5c-bbab364eac3b"
      },
      "execution_count": null,
      "outputs": [
        {
          "output_type": "stream",
          "name": "stdout",
          "text": [
            "4/4 [==============================] - 0s 5ms/step - loss: 1.0825 - mae: 1.0825\n"
          ]
        },
        {
          "output_type": "execute_result",
          "data": {
            "text/plain": [
              "[1.0825443267822266, 1.0825443267822266]"
            ]
          },
          "metadata": {},
          "execution_count": 93
        }
      ]
    },
    {
      "cell_type": "code",
      "source": [
        "tf.random.set_seed(42)\n",
        "\n",
        "# STEP1: Creating the model\n",
        "\n",
        "model= tf.keras.Sequential([\n",
        "                            tf.keras.layers.Dense(13),\n",
        "                            tf.keras.layers.Dense(7),\n",
        "                            tf.keras.layers.Dense(6),\n",
        "                            tf.keras.layers.Dense(1)\n",
        "])\n",
        "\n",
        "# STEP2: Compiling the model\n",
        "\n",
        "model.compile(loss= tf.keras.losses.mae,\n",
        "              optimizer= tf.keras.optimizers.Adam(),\n",
        "              metrics= ['mae']\n",
        "              )\n",
        "\n",
        "# STEP3: Fit the model\n",
        "\n",
        "h3= model.fit(x_train, y_train, epochs= 500, verbose=0)"
      ],
      "metadata": {
        "id": "uicrXo-Qx9U3"
      },
      "execution_count": null,
      "outputs": []
    },
    {
      "cell_type": "code",
      "source": [
        "model.evaluate(x_test,y_test)\n"
      ],
      "metadata": {
        "colab": {
          "base_uri": "https://localhost:8080/"
        },
        "id": "kYaLOcOXx9P8",
        "outputId": "c8f3ff6d-496f-4159-9486-7a57b72e6f0c"
      },
      "execution_count": null,
      "outputs": [
        {
          "output_type": "stream",
          "name": "stdout",
          "text": [
            "4/4 [==============================] - 0s 3ms/step - loss: 1.0390 - mae: 1.0390\n"
          ]
        },
        {
          "output_type": "execute_result",
          "data": {
            "text/plain": [
              "[1.0389889478683472, 1.0389889478683472]"
            ]
          },
          "metadata": {},
          "execution_count": 95
        }
      ]
    },
    {
      "cell_type": "code",
      "source": [],
      "metadata": {
        "id": "yEe-Z238zkFA"
      },
      "execution_count": null,
      "outputs": []
    },
    {
      "cell_type": "code",
      "source": [],
      "metadata": {
        "id": "3M3iyTDezkBq"
      },
      "execution_count": null,
      "outputs": []
    },
    {
      "cell_type": "code",
      "source": [],
      "metadata": {
        "id": "G4gjhXq1zj8o"
      },
      "execution_count": null,
      "outputs": []
    }
  ]
}